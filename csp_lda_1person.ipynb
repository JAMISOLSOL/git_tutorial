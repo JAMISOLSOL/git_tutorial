{
 "cells": [
  {
   "cell_type": "markdown",
   "id": "e2b452fd-cd75-49c9-9e93-e2260770aac8",
   "metadata": {},
   "source": [
    "1. CSP로 이진분류\n",
    "2. 머신러닝 기법 이용(로지스틱) 데이터 분류\n",
    "3. 전처리된 데이터를 전결합층 fully connected 엡실러 층3개로 해서 해보기"
   ]
  },
  {
   "cell_type": "code",
   "execution_count": 1,
   "id": "af8f2c32-a1ea-4bbd-93a5-2aeaaa5d9905",
   "metadata": {},
   "outputs": [
    {
     "name": "stdout",
     "output_type": "stream",
     "text": [
      "Requirement already satisfied: numpy in c:\\users\\kimso\\anaconda3\\lib\\site-packages (1.26.4)\n",
      "Collecting moabb\n",
      "  Using cached moabb-1.1.1-py3-none-any.whl.metadata (16 kB)\n",
      "Requirement already satisfied: PyYAML<7.0,>=6.0 in c:\\users\\kimso\\anaconda3\\lib\\site-packages (from moabb) (6.0.1)\n",
      "Collecting coverage<8.0.0,>=7.0.1 (from moabb)\n",
      "  Downloading coverage-7.6.12-cp312-cp312-win_amd64.whl.metadata (8.7 kB)\n",
      "Collecting edfio<0.5.0,>=0.4.2 (from moabb)\n",
      "  Using cached edfio-0.4.5-py3-none-any.whl.metadata (4.3 kB)\n",
      "Collecting edflib-python<2.0.0,>=1.0.6 (from moabb)\n",
      "  Using cached EDFlib_Python-1.0.8-py3-none-any.whl.metadata (1.3 kB)\n",
      "Requirement already satisfied: h5py<4.0.0,>=3.10.0 in c:\\users\\kimso\\anaconda3\\lib\\site-packages (from moabb) (3.11.0)\n",
      "Requirement already satisfied: matplotlib<4.0.0,>=3.6.2 in c:\\users\\kimso\\anaconda3\\lib\\site-packages (from moabb) (3.9.2)\n",
      "Collecting memory-profiler<0.62.0,>=0.61.0 (from moabb)\n",
      "  Using cached memory_profiler-0.61.0-py3-none-any.whl.metadata (20 kB)\n",
      "Collecting mne<2.0.0,>=1.7.0 (from moabb)\n",
      "  Using cached mne-1.9.0-py3-none-any.whl.metadata (20 kB)\n",
      "Collecting mne-bids<0.15,>=0.14 (from moabb)\n",
      "  Using cached mne_bids-0.14-py2.py3-none-any.whl.metadata (4.8 kB)\n",
      "Collecting pandas<2.0.0,>=1.5.2 (from moabb)\n",
      "  Downloading pandas-1.5.3.tar.gz (5.2 MB)\n",
      "     ---------------------------------------- 0.0/5.2 MB ? eta -:--:--\n",
      "     ------------ --------------------------- 1.6/5.2 MB 9.3 MB/s eta 0:00:01\n",
      "     ------------------ --------------------- 2.4/5.2 MB 6.1 MB/s eta 0:00:01\n",
      "     ------------------------ --------------- 3.1/5.2 MB 5.3 MB/s eta 0:00:01\n",
      "     ------------------------------ --------- 3.9/5.2 MB 4.8 MB/s eta 0:00:01\n",
      "     ------------------------------------ --- 4.7/5.2 MB 4.6 MB/s eta 0:00:01\n",
      "     ---------------------------------------- 5.2/5.2 MB 4.4 MB/s eta 0:00:00\n",
      "  Installing build dependencies: started\n",
      "  Installing build dependencies: finished with status 'done'\n",
      "  Getting requirements to build wheel: started\n",
      "  Getting requirements to build wheel: still running...\n",
      "  Getting requirements to build wheel: finished with status 'done'\n",
      "  Preparing metadata (pyproject.toml): started\n",
      "  Preparing metadata (pyproject.toml): finished with status 'done'\n",
      "Collecting pooch<2.0.0,>=1.6.0 (from moabb)\n",
      "  Using cached pooch-1.8.2-py3-none-any.whl.metadata (10 kB)\n",
      "Collecting pyriemann<0.7,>=0.6 (from moabb)\n",
      "  Using cached pyriemann-0.6-py2.py3-none-any.whl.metadata (8.3 kB)\n",
      "Requirement already satisfied: pytest<8.0.0,>=7.4.0 in c:\\users\\kimso\\anaconda3\\lib\\site-packages (from moabb) (7.4.4)\n",
      "Requirement already satisfied: requests<3.0.0,>=2.28.1 in c:\\users\\kimso\\anaconda3\\lib\\site-packages (from moabb) (2.32.3)\n",
      "Requirement already satisfied: scikit-learn>=1.4.2 in c:\\users\\kimso\\anaconda3\\lib\\site-packages (from moabb) (1.5.1)\n",
      "Requirement already satisfied: scipy<2.0.0,>=1.9.3 in c:\\users\\kimso\\anaconda3\\lib\\site-packages (from moabb) (1.13.1)\n",
      "Collecting seaborn<0.13.0,>=0.12.1 (from moabb)\n",
      "  Using cached seaborn-0.12.2-py3-none-any.whl.metadata (5.4 kB)\n",
      "Requirement already satisfied: tqdm<5.0.0,>=4.64.1 in c:\\users\\kimso\\anaconda3\\lib\\site-packages (from moabb) (4.66.5)\n",
      "Collecting urllib3<2.0.0,>=1.26.15 (from moabb)\n",
      "  Using cached urllib3-1.26.20-py2.py3-none-any.whl.metadata (50 kB)\n",
      "Requirement already satisfied: contourpy>=1.0.1 in c:\\users\\kimso\\anaconda3\\lib\\site-packages (from matplotlib<4.0.0,>=3.6.2->moabb) (1.2.0)\n",
      "Requirement already satisfied: cycler>=0.10 in c:\\users\\kimso\\anaconda3\\lib\\site-packages (from matplotlib<4.0.0,>=3.6.2->moabb) (0.11.0)\n",
      "Requirement already satisfied: fonttools>=4.22.0 in c:\\users\\kimso\\anaconda3\\lib\\site-packages (from matplotlib<4.0.0,>=3.6.2->moabb) (4.51.0)\n",
      "Requirement already satisfied: kiwisolver>=1.3.1 in c:\\users\\kimso\\anaconda3\\lib\\site-packages (from matplotlib<4.0.0,>=3.6.2->moabb) (1.4.4)\n",
      "Requirement already satisfied: packaging>=20.0 in c:\\users\\kimso\\anaconda3\\lib\\site-packages (from matplotlib<4.0.0,>=3.6.2->moabb) (24.1)\n",
      "Requirement already satisfied: pillow>=8 in c:\\users\\kimso\\anaconda3\\lib\\site-packages (from matplotlib<4.0.0,>=3.6.2->moabb) (10.4.0)\n",
      "Requirement already satisfied: pyparsing>=2.3.1 in c:\\users\\kimso\\anaconda3\\lib\\site-packages (from matplotlib<4.0.0,>=3.6.2->moabb) (3.1.2)\n",
      "Requirement already satisfied: python-dateutil>=2.7 in c:\\users\\kimso\\anaconda3\\lib\\site-packages (from matplotlib<4.0.0,>=3.6.2->moabb) (2.9.0.post0)\n",
      "Requirement already satisfied: psutil in c:\\users\\kimso\\anaconda3\\lib\\site-packages (from memory-profiler<0.62.0,>=0.61.0->moabb) (5.9.0)\n",
      "Requirement already satisfied: decorator in c:\\users\\kimso\\anaconda3\\lib\\site-packages (from mne<2.0.0,>=1.7.0->moabb) (5.1.1)\n",
      "Requirement already satisfied: jinja2 in c:\\users\\kimso\\anaconda3\\lib\\site-packages (from mne<2.0.0,>=1.7.0->moabb) (3.1.4)\n",
      "Requirement already satisfied: lazy-loader>=0.3 in c:\\users\\kimso\\anaconda3\\lib\\site-packages (from mne<2.0.0,>=1.7.0->moabb) (0.4)\n",
      "Requirement already satisfied: pytz>=2020.1 in c:\\users\\kimso\\anaconda3\\lib\\site-packages (from pandas<2.0.0,>=1.5.2->moabb) (2024.1)\n",
      "Requirement already satisfied: platformdirs>=2.5.0 in c:\\users\\kimso\\anaconda3\\lib\\site-packages (from pooch<2.0.0,>=1.6.0->moabb) (3.10.0)\n",
      "Requirement already satisfied: joblib in c:\\users\\kimso\\anaconda3\\lib\\site-packages (from pyriemann<0.7,>=0.6->moabb) (1.4.2)\n",
      "Requirement already satisfied: iniconfig in c:\\users\\kimso\\anaconda3\\lib\\site-packages (from pytest<8.0.0,>=7.4.0->moabb) (1.1.1)\n",
      "Requirement already satisfied: pluggy<2.0,>=0.12 in c:\\users\\kimso\\anaconda3\\lib\\site-packages (from pytest<8.0.0,>=7.4.0->moabb) (1.0.0)\n",
      "Requirement already satisfied: colorama in c:\\users\\kimso\\anaconda3\\lib\\site-packages (from pytest<8.0.0,>=7.4.0->moabb) (0.4.6)\n",
      "Requirement already satisfied: charset-normalizer<4,>=2 in c:\\users\\kimso\\anaconda3\\lib\\site-packages (from requests<3.0.0,>=2.28.1->moabb) (3.3.2)\n",
      "Requirement already satisfied: idna<4,>=2.5 in c:\\users\\kimso\\anaconda3\\lib\\site-packages (from requests<3.0.0,>=2.28.1->moabb) (3.7)\n",
      "Requirement already satisfied: certifi>=2017.4.17 in c:\\users\\kimso\\anaconda3\\lib\\site-packages (from requests<3.0.0,>=2.28.1->moabb) (2025.1.31)\n",
      "Requirement already satisfied: threadpoolctl>=3.1.0 in c:\\users\\kimso\\anaconda3\\lib\\site-packages (from scikit-learn>=1.4.2->moabb) (3.5.0)\n",
      "Requirement already satisfied: six>=1.5 in c:\\users\\kimso\\anaconda3\\lib\\site-packages (from python-dateutil>=2.7->matplotlib<4.0.0,>=3.6.2->moabb) (1.16.0)\n",
      "Requirement already satisfied: MarkupSafe>=2.0 in c:\\users\\kimso\\anaconda3\\lib\\site-packages (from jinja2->mne<2.0.0,>=1.7.0->moabb) (2.1.3)\n",
      "Using cached moabb-1.1.1-py3-none-any.whl (269 kB)\n",
      "Downloading coverage-7.6.12-cp312-cp312-win_amd64.whl (212 kB)\n",
      "Using cached edfio-0.4.5-py3-none-any.whl (27 kB)\n",
      "Using cached EDFlib_Python-1.0.8-py3-none-any.whl (26 kB)\n",
      "Using cached memory_profiler-0.61.0-py3-none-any.whl (31 kB)\n",
      "Using cached mne-1.9.0-py3-none-any.whl (7.4 MB)\n",
      "Using cached mne_bids-0.14-py2.py3-none-any.whl (1.2 MB)\n",
      "Using cached pooch-1.8.2-py3-none-any.whl (64 kB)\n",
      "Using cached pyriemann-0.6-py2.py3-none-any.whl (111 kB)\n",
      "Using cached seaborn-0.12.2-py3-none-any.whl (293 kB)\n",
      "Using cached urllib3-1.26.20-py2.py3-none-any.whl (144 kB)\n",
      "Building wheels for collected packages: pandas\n",
      "  Building wheel for pandas (pyproject.toml): started\n",
      "  Building wheel for pandas (pyproject.toml): still running...\n",
      "  Building wheel for pandas (pyproject.toml): finished with status 'done'\n",
      "  Created wheel for pandas: filename=pandas-1.5.3-cp312-cp312-win_amd64.whl size=9843037 sha256=f5b91f184f1f093165a14dec6d543e45d82cd32e1b4e018f166892e0ded45f79\n",
      "  Stored in directory: c:\\users\\kimso\\appdata\\local\\pip\\cache\\wheels\\fb\\83\\18\\8e7307aa1185c5498c5490e4d9c8a1732d9f1056e86c3491c6\n",
      "Successfully built pandas\n",
      "Installing collected packages: urllib3, memory-profiler, edflib-python, edfio, coverage, pandas, seaborn, pyriemann, pooch, mne, mne-bids, moabb\n",
      "  Attempting uninstall: urllib3\n",
      "    Found existing installation: urllib3 2.2.3\n",
      "    Uninstalling urllib3-2.2.3:\n",
      "      Successfully uninstalled urllib3-2.2.3\n",
      "  Attempting uninstall: pandas\n",
      "    Found existing installation: pandas 2.2.2\n",
      "    Uninstalling pandas-2.2.2:\n",
      "      Successfully uninstalled pandas-2.2.2\n",
      "  Attempting uninstall: seaborn\n",
      "    Found existing installation: seaborn 0.13.2\n",
      "    Uninstalling seaborn-0.13.2:\n",
      "      Successfully uninstalled seaborn-0.13.2\n",
      "Successfully installed coverage-7.6.12 edfio-0.4.5 edflib-python-1.0.8 memory-profiler-0.61.0 mne-1.9.0 mne-bids-0.14 moabb-1.1.1 pandas-1.5.3 pooch-1.8.2 pyriemann-0.6 seaborn-0.12.2 urllib3-1.26.20\n"
     ]
    },
    {
     "name": "stderr",
     "output_type": "stream",
     "text": [
      "ERROR: pip's dependency resolver does not currently take into account all the packages that are installed. This behaviour is the source of the following dependency conflicts.\n",
      "conda-repo-cli 1.0.114 requires urllib3>=2.2.2, but you have urllib3 1.26.20 which is incompatible.\n",
      "dask-expr 1.1.13 requires pandas>=2, but you have pandas 1.5.3 which is incompatible.\n"
     ]
    }
   ],
   "source": [
    "!pip install numpy moabb"
   ]
  },
  {
   "cell_type": "code",
   "execution_count": 2,
   "id": "c5216d56-6416-4239-b0a4-369adab75d37",
   "metadata": {},
   "outputs": [],
   "source": [
    "from moabb.datasets import BNCI2014_008\n",
    "from moabb.paradigms import P300\n",
    "import pandas as pd"
   ]
  },
  {
   "cell_type": "code",
   "execution_count": 3,
   "id": "05795af7-565a-4c42-b4d5-54e84569b28f",
   "metadata": {},
   "outputs": [],
   "source": [
    "dataset = BNCI2014_008()"
   ]
  },
  {
   "cell_type": "code",
   "execution_count": 4,
   "id": "7369417c-6c85-4e1b-a26d-f9c85aac26a3",
   "metadata": {},
   "outputs": [],
   "source": [
    "paradigm = P300()"
   ]
  },
  {
   "cell_type": "code",
   "execution_count": 5,
   "id": "b925f237-286c-4dd2-be3e-e10a426b2419",
   "metadata": {},
   "outputs": [
    {
     "name": "stderr",
     "output_type": "stream",
     "text": [
      "C:\\Users\\kimso\\anaconda3\\envs\\sol3\\lib\\site-packages\\moabb\\datasets\\download.py:55: RuntimeWarning: Setting non-standard config type: \"MNE_DATASETS_BNCI_PATH\"\n",
      "  set_config(key, get_config(\"MNE_DATA\"))\n",
      "Downloading data from 'http://bnci-horizon-2020.eu/database/data-sets/008-2014/A01.mat' to file 'C:\\Users\\kimso\\mne_data\\MNE-bnci-data\\database\\data-sets\\008-2014\\A01.mat'.\n",
      "C:\\Users\\kimso\\anaconda3\\envs\\sol3\\lib\\site-packages\\urllib3\\connectionpool.py:1064: InsecureRequestWarning: Unverified HTTPS request is being made to host 'lampx.tugraz.at'. Adding certificate verification is strongly advised. See: https://urllib3.readthedocs.io/en/1.26.x/advanced-usage.html#ssl-warnings\n",
      "  warnings.warn(\n",
      "100%|#####################################| 21.5M/21.5M [00:00<00:00, 21.6GB/s]\n",
      "SHA256 hash of downloaded file: cdf9bca4f48c61ee9c9ba998382a4e84392918c9dbc5a43f45ee0052614e25bd\n",
      "Use this value as the 'known_hash' argument of 'pooch.retrieve' to ensure that the file hasn't changed if it is downloaded again in the future.\n"
     ]
    },
    {
     "name": "stdout",
     "output_type": "stream",
     "text": [
      "Adding metadata with 3 columns\n",
      "Adding metadata with 3 columns\n",
      "4200 matching events found\n",
      "No baseline correction applied\n"
     ]
    },
    {
     "name": "stderr",
     "output_type": "stream",
     "text": [
      "C:\\Users\\kimso\\anaconda3\\envs\\sol3\\lib\\site-packages\\moabb\\datasets\\preprocessing.py:279: UserWarning: warnEpochs <Epochs | 4200 events (all good), 0 – 1 s (baseline off), ~65.9 MiB, data loaded,\n",
      " 'Target': 700\n",
      " 'NonTarget': 3500>\n",
      "  warn(f\"warnEpochs {epochs}\")\n",
      "C:\\Users\\kimso\\anaconda3\\envs\\sol3\\lib\\site-packages\\sklearn\\pipeline.py:62: FutureWarning: This Pipeline instance is not fitted yet. Call 'fit' with appropriate arguments before using other methods such as transform, predict, etc. This will raise an error in 1.8 instead of the current warning.\n",
      "  warnings.warn(\n",
      "C:\\Users\\kimso\\anaconda3\\envs\\sol3\\lib\\site-packages\\moabb\\paradigms\\base.py:350: RuntimeWarning: Concatenation of Annotations within Epochs is not supported yet. All annotations will be dropped.\n",
      "  X = mne.concatenate_epochs(X)\n"
     ]
    }
   ],
   "source": [
    "X, labels, meta = paradigm.get_data(dataset=dataset, subjects=[1], return_epochs=True)"
   ]
  },
  {
   "cell_type": "code",
   "execution_count": null,
   "id": "530d6b6e-1574-41cf-925e-e4fc4ea38c5d",
   "metadata": {},
   "outputs": [],
   "source": [
    "X.shape"
   ]
  },
  {
   "cell_type": "code",
   "execution_count": 14,
   "id": "5e0c454d-1a10-4dbc-922d-6c752984e36d",
   "metadata": {},
   "outputs": [],
   "source": [
    "df = X.to_data_frame()"
   ]
  },
  {
   "cell_type": "code",
   "execution_count": 33,
   "id": "a58d6c32-392f-4f1c-b02f-80bb84b2e77f",
   "metadata": {},
   "outputs": [
    {
     "data": {
      "text/html": [
       "<div>\n",
       "<style scoped>\n",
       "    .dataframe tbody tr th:only-of-type {\n",
       "        vertical-align: middle;\n",
       "    }\n",
       "\n",
       "    .dataframe tbody tr th {\n",
       "        vertical-align: top;\n",
       "    }\n",
       "\n",
       "    .dataframe thead th {\n",
       "        text-align: right;\n",
       "    }\n",
       "</style>\n",
       "<table border=\"1\" class=\"dataframe\">\n",
       "  <thead>\n",
       "    <tr style=\"text-align: center;\">\n",
       "      <th></th>\n",
       "      <th>time</th>\n",
       "      <th>condition</th>\n",
       "      <th>epoch</th>\n",
       "      <th>Fz</th>\n",
       "      <th>Cz</th>\n",
       "      <th>Pz</th>\n",
       "      <th>Oz</th>\n",
       "      <th>P3</th>\n",
       "      <th>P4</th>\n",
       "      <th>PO7</th>\n",
       "      <th>PO8</th>\n",
       "    </tr>\n",
       "  </thead>\n",
       "  <tbody>\n",
       "    <tr>\n",
       "      <th>0</th>\n",
       "      <td>0.000000</td>\n",
       "      <td>NonTarget</td>\n",
       "      <td>0</td>\n",
       "      <td>-2.919284</td>\n",
       "      <td>-5.059983</td>\n",
       "      <td>-3.159821</td>\n",
       "      <td>-3.134295</td>\n",
       "      <td>-5.555135</td>\n",
       "      <td>-3.984568</td>\n",
       "      <td>-0.798101</td>\n",
       "      <td>-2.252647</td>\n",
       "    </tr>\n",
       "    <tr>\n",
       "      <th>1</th>\n",
       "      <td>0.003906</td>\n",
       "      <td>NonTarget</td>\n",
       "      <td>0</td>\n",
       "      <td>-0.998181</td>\n",
       "      <td>-2.105539</td>\n",
       "      <td>0.745129</td>\n",
       "      <td>4.416750</td>\n",
       "      <td>-1.525778</td>\n",
       "      <td>1.270971</td>\n",
       "      <td>5.625820</td>\n",
       "      <td>3.897016</td>\n",
       "    </tr>\n",
       "    <tr>\n",
       "      <th>2</th>\n",
       "      <td>0.007812</td>\n",
       "      <td>NonTarget</td>\n",
       "      <td>0</td>\n",
       "      <td>0.887403</td>\n",
       "      <td>1.012338</td>\n",
       "      <td>4.709787</td>\n",
       "      <td>12.266051</td>\n",
       "      <td>2.835857</td>\n",
       "      <td>6.565038</td>\n",
       "      <td>11.803882</td>\n",
       "      <td>10.312262</td>\n",
       "    </tr>\n",
       "    <tr>\n",
       "      <th>3</th>\n",
       "      <td>0.011719</td>\n",
       "      <td>NonTarget</td>\n",
       "      <td>0</td>\n",
       "      <td>2.244849</td>\n",
       "      <td>3.555139</td>\n",
       "      <td>7.796145</td>\n",
       "      <td>18.472412</td>\n",
       "      <td>6.542550</td>\n",
       "      <td>10.711572</td>\n",
       "      <td>16.357263</td>\n",
       "      <td>15.546081</td>\n",
       "    </tr>\n",
       "    <tr>\n",
       "      <th>4</th>\n",
       "      <td>0.015625</td>\n",
       "      <td>NonTarget</td>\n",
       "      <td>0</td>\n",
       "      <td>2.718209</td>\n",
       "      <td>4.943282</td>\n",
       "      <td>9.337894</td>\n",
       "      <td>21.522240</td>\n",
       "      <td>8.833964</td>\n",
       "      <td>12.837491</td>\n",
       "      <td>18.398629</td>\n",
       "      <td>18.435847</td>\n",
       "    </tr>\n",
       "  </tbody>\n",
       "</table>\n",
       "</div>"
      ],
      "text/plain": [
       "     time   condition   epoch     Fz        Cz        Pz        Oz         P3        P4         PO7        PO8   \n",
       "0  0.000000  NonTarget    0   -2.919284 -5.059983 -3.159821  -3.134295 -5.555135  -3.984568  -0.798101  -2.252647\n",
       "1  0.003906  NonTarget    0   -0.998181 -2.105539  0.745129   4.416750 -1.525778   1.270971   5.625820   3.897016\n",
       "2  0.007812  NonTarget    0    0.887403  1.012338  4.709787  12.266051  2.835857   6.565038  11.803882  10.312262\n",
       "3  0.011719  NonTarget    0    2.244849  3.555139  7.796145  18.472412  6.542550  10.711572  16.357263  15.546081\n",
       "4  0.015625  NonTarget    0    2.718209  4.943282  9.337894  21.522240  8.833964  12.837491  18.398629  18.435847"
      ]
     },
     "metadata": {},
     "output_type": "display_data"
    }
   ],
   "source": [
    "from IPython.display import display\n",
    "\n",
    "display(df.head())  # 처음 1000개 행 출력"
   ]
  },
  {
   "cell_type": "code",
   "execution_count": 16,
   "id": "35a1ffd2-6c35-4b68-919a-91a81f6d2f5d",
   "metadata": {},
   "outputs": [],
   "source": [
    "import numpy as np\n",
    "import pandas as pd\n",
    "from sklearn.model_selection import train_test_split\n",
    "from sklearn.preprocessing import StandardScaler\n",
    "from sklearn.discriminant_analysis import LinearDiscriminantAnalysis\n",
    "from sklearn.svm import SVC\n",
    "from sklearn.metrics import accuracy_score, classification_report, confusion_matrix\n",
    "from mne.decoding import CSP"
   ]
  },
  {
   "cell_type": "code",
   "execution_count": 27,
   "id": "f4bcd062-75b7-4bb3-833f-67876c3bb49e",
   "metadata": {},
   "outputs": [
    {
     "name": "stderr",
     "output_type": "stream",
     "text": [
      "C:\\Users\\kimso\\AppData\\Local\\Temp\\ipykernel_17152\\1397099842.py:8: SettingWithCopyWarning: \n",
      "A value is trying to be set on a copy of a slice from a DataFrame.\n",
      "Try using .loc[row_indexer,col_indexer] = value instead\n",
      "\n",
      "See the caveats in the documentation: https://pandas.pydata.org/pandas-docs/stable/user_guide/indexing.html#returning-a-view-versus-a-copy\n",
      "  df_filtered['label'] = df_filtered['condition'].apply(lambda x: 1 if x == 'Target' else 0)\n"
     ]
    }
   ],
   "source": [
    "# EEG 채널 리스트\n",
    "eeg_channels = ['Fz', 'Cz', 'Pz', 'Oz', 'P3', 'P4', 'PO7', 'PO8']\n",
    "\n",
    "# 데이터에서 필요한 채널과 라벨만 선택\n",
    "df_filtered = df[eeg_channels + ['condition']]\n",
    "\n",
    "# 라벨링 (Target = 1, NonTarget = 0)\n",
    "df_filtered['label'] = df_filtered['condition'].apply(lambda x: 1 if x == 'Target' else 0)\n",
    "df_filtered = df_filtered.drop(columns=['condition'])  # 원본 condition 컬럼 삭제\n",
    "\n",
    "# 데이터 분할 (80% 학습 / 20% 테스트)\n",
    "X = df_filtered[eeg_channels].values  # EEG 신호 데이터\n",
    "y = df_filtered['label'].values  # 타겟 여부 (이진 분류)\n",
    "\n",
    "X_train, X_test, y_train, y_test = train_test_split(X, y, test_size=0.2, random_state=42)\n",
    "\n",
    "# 데이터 정규화 (표준화)\n",
    "scaler = StandardScaler()\n",
    "X_train = X_train.reshape(X_train.shape[0], X_train.shape[1], 1)\n",
    "X_test = X_test.reshape(X_test.shape[0], X_test.shape[1], 1)"
   ]
  },
  {
   "cell_type": "code",
   "execution_count": 28,
   "id": "c2bde32e-5051-409c-9a86-53abc2d58fc9",
   "metadata": {},
   "outputs": [],
   "source": [
    "csp = CSP(n_components=4, reg=None, log=True, norm_trace=False)"
   ]
  },
  {
   "cell_type": "code",
   "execution_count": 29,
   "id": "531c6810-7329-4650-9e1d-c61cb19895b5",
   "metadata": {},
   "outputs": [
    {
     "name": "stdout",
     "output_type": "stream",
     "text": [
      "Computing rank from data with rank=None\n",
      "    Using tolerance 46 (2.2e-16 eps * 8 dim * 2.6e+16  max singular value)\n",
      "    Estimated rank (data): 8\n",
      "    data: rank 8 computed from 8 data channels with 0 projectors\n",
      "Reducing data rank from 8 -> 8\n",
      "Estimating class=0 covariance using EMPIRICAL\n",
      "Done.\n",
      "Estimating class=1 covariance using EMPIRICAL\n",
      "Done.\n"
     ]
    }
   ],
   "source": [
    "X_train_csp = csp.fit_transform(X_train, y_train)\n",
    "X_test_csp = csp.transform(X_test)"
   ]
  },
  {
   "cell_type": "code",
   "execution_count": 34,
   "id": "68ab3dcd-d1da-45f8-8ef8-43b20d9e4538",
   "metadata": {},
   "outputs": [
    {
     "name": "stdout",
     "output_type": "stream",
     "text": [
      "🔹 LDA Train 정확도: 0.8333\n",
      "🔹 LDA Test 정확도: 0.8335\n"
     ]
    }
   ],
   "source": [
    "lda = LinearDiscriminantAnalysis()\n",
    "lda.fit(X_train_csp, y_train)\n",
    "\n",
    "# 예측 수행 (Train & Test)\n",
    "y_pred_train_lda = lda.predict(X_train_csp)  # Train 데이터 예측\n",
    "y_pred_test_lda = lda.predict(X_test_csp)    # Test 데이터 예측\n",
    "\n",
    "# 정확도 계산\n",
    "train_accuracy = accuracy_score(y_train, y_pred_train_lda)\n",
    "test_accuracy = accuracy_score(y_test, y_pred_test_lda)\n",
    "\n",
    "# 출력\n",
    "print(f\"🔹 LDA Train 정확도: {train_accuracy:.4f}\")\n",
    "print(f\"🔹 LDA Test 정확도: {test_accuracy:.4f}\")"
   ]
  },
  {
   "cell_type": "code",
   "execution_count": null,
   "id": "bb2c373b-c0e4-4254-97f3-21aab6a16f1f",
   "metadata": {},
   "outputs": [],
   "source": [
    "# SVM 모델 생성 (선형 커널 사용)\n",
    "svm = SVC(kernel='linear', C=0.2)\n",
    "\n",
    "# 모델 학습\n",
    "svm.fit(X_train_csp, y_train)\n",
    "\n",
    "# 예측 수행 (Train & Test)\n",
    "y_pred_train_svm = svm.predict(X_train_csp)  # Train 데이터 예측\n",
    "y_pred_test_svm = svm.predict(X_test_csp)    # Test 데이터 예측"
   ]
  },
  {
   "cell_type": "code",
   "execution_count": null,
   "id": "e47642e7-fbb9-43d8-b36b-a2bca0c0638c",
   "metadata": {},
   "outputs": [],
   "source": [
    "# 정확도 계산\n",
    "train_accuracy = accuracy_score(y_train, y_pred_train_svm)\n",
    "test_accuracy = accuracy_score(y_test, y_pred_test_svm)\n",
    "\n",
    "# 출력\n",
    "print(f\"🔹 SVM Train 정확도: {train_accuracy:.4f}\")\n",
    "print(f\"🔹 SVM Test 정확도: {test_accuracy:.4f}\")\n",
    "\n",
    "# 분류 보고서 출력\n",
    "print(\"\\n🔹 SVM 모델 평가 (Test Set)\")\n",
    "print(classification_report(y_test, y_pred_test_svm))"
   ]
  },
  {
   "cell_type": "code",
   "execution_count": null,
   "id": "82fe8a88-395f-4c28-831e-5b899befd18d",
   "metadata": {},
   "outputs": [],
   "source": []
  }
 ],
 "metadata": {
  "kernelspec": {
   "display_name": "sol3",
   "language": "python",
   "name": "sol3"
  },
  "language_info": {
   "codemirror_mode": {
    "name": "ipython",
    "version": 3
   },
   "file_extension": ".py",
   "mimetype": "text/x-python",
   "name": "python",
   "nbconvert_exporter": "python",
   "pygments_lexer": "ipython3",
   "version": "3.10.16"
  }
 },
 "nbformat": 4,
 "nbformat_minor": 5
}
