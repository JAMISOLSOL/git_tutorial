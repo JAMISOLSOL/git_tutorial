{
 "cells": [
  {
   "cell_type": "code",
   "execution_count": 75,
   "id": "f8433f79-1def-44b6-9554-dddaaeafe22e",
   "metadata": {
    "scrolled": true
   },
   "outputs": [
    {
     "name": "stdout",
     "output_type": "stream",
     "text": [
      "Requirement already satisfied: numpy in c:\\users\\kimso\\anaconda3\\envs\\csp_lda\\lib\\site-packages (1.26.4)\n",
      "Requirement already satisfied: moabb in c:\\users\\kimso\\anaconda3\\envs\\csp_lda\\lib\\site-packages (1.1.1)\n",
      "Requirement already satisfied: PyYAML<7.0,>=6.0 in c:\\users\\kimso\\anaconda3\\envs\\csp_lda\\lib\\site-packages (from moabb) (6.0.2)\n",
      "Requirement already satisfied: coverage<8.0.0,>=7.0.1 in c:\\users\\kimso\\anaconda3\\envs\\csp_lda\\lib\\site-packages (from moabb) (7.6.10)\n",
      "Requirement already satisfied: edfio<0.5.0,>=0.4.2 in c:\\users\\kimso\\anaconda3\\envs\\csp_lda\\lib\\site-packages (from moabb) (0.4.5)\n",
      "Requirement already satisfied: edflib-python<2.0.0,>=1.0.6 in c:\\users\\kimso\\anaconda3\\envs\\csp_lda\\lib\\site-packages (from moabb) (1.0.8)\n",
      "Requirement already satisfied: h5py<4.0.0,>=3.10.0 in c:\\users\\kimso\\anaconda3\\envs\\csp_lda\\lib\\site-packages (from moabb) (3.12.1)\n",
      "Requirement already satisfied: matplotlib<4.0.0,>=3.6.2 in c:\\users\\kimso\\anaconda3\\envs\\csp_lda\\lib\\site-packages (from moabb) (3.10.0)\n",
      "Requirement already satisfied: memory-profiler<0.62.0,>=0.61.0 in c:\\users\\kimso\\anaconda3\\envs\\csp_lda\\lib\\site-packages (from moabb) (0.61.0)\n",
      "Requirement already satisfied: mne<2.0.0,>=1.7.0 in c:\\users\\kimso\\anaconda3\\envs\\csp_lda\\lib\\site-packages (from moabb) (1.9.0)\n",
      "Requirement already satisfied: mne-bids<0.15,>=0.14 in c:\\users\\kimso\\anaconda3\\envs\\csp_lda\\lib\\site-packages (from moabb) (0.14)\n",
      "Requirement already satisfied: pandas<2.0.0,>=1.5.2 in c:\\users\\kimso\\anaconda3\\envs\\csp_lda\\lib\\site-packages (from moabb) (1.5.3)\n",
      "Requirement already satisfied: pooch<2.0.0,>=1.6.0 in c:\\users\\kimso\\anaconda3\\envs\\csp_lda\\lib\\site-packages (from moabb) (1.8.2)\n",
      "Requirement already satisfied: pyriemann<0.7,>=0.6 in c:\\users\\kimso\\anaconda3\\envs\\csp_lda\\lib\\site-packages (from moabb) (0.6)\n",
      "Requirement already satisfied: pytest<8.0.0,>=7.4.0 in c:\\users\\kimso\\anaconda3\\envs\\csp_lda\\lib\\site-packages (from moabb) (7.4.4)\n",
      "Requirement already satisfied: requests<3.0.0,>=2.28.1 in c:\\users\\kimso\\anaconda3\\envs\\csp_lda\\lib\\site-packages (from moabb) (2.32.3)\n",
      "Requirement already satisfied: scikit-learn>=1.4.2 in c:\\users\\kimso\\anaconda3\\envs\\csp_lda\\lib\\site-packages (from moabb) (1.6.1)\n",
      "Requirement already satisfied: scipy<2.0.0,>=1.9.3 in c:\\users\\kimso\\anaconda3\\envs\\csp_lda\\lib\\site-packages (from moabb) (1.15.1)\n",
      "Requirement already satisfied: seaborn<0.13.0,>=0.12.1 in c:\\users\\kimso\\anaconda3\\envs\\csp_lda\\lib\\site-packages (from moabb) (0.12.2)\n",
      "Requirement already satisfied: tqdm<5.0.0,>=4.64.1 in c:\\users\\kimso\\anaconda3\\envs\\csp_lda\\lib\\site-packages (from moabb) (4.67.1)\n",
      "Requirement already satisfied: urllib3<2.0.0,>=1.26.15 in c:\\users\\kimso\\anaconda3\\envs\\csp_lda\\lib\\site-packages (from moabb) (1.26.20)\n",
      "Requirement already satisfied: contourpy>=1.0.1 in c:\\users\\kimso\\anaconda3\\envs\\csp_lda\\lib\\site-packages (from matplotlib<4.0.0,>=3.6.2->moabb) (1.3.1)\n",
      "Requirement already satisfied: cycler>=0.10 in c:\\users\\kimso\\anaconda3\\envs\\csp_lda\\lib\\site-packages (from matplotlib<4.0.0,>=3.6.2->moabb) (0.12.1)\n",
      "Requirement already satisfied: fonttools>=4.22.0 in c:\\users\\kimso\\anaconda3\\envs\\csp_lda\\lib\\site-packages (from matplotlib<4.0.0,>=3.6.2->moabb) (4.55.8)\n",
      "Requirement already satisfied: kiwisolver>=1.3.1 in c:\\users\\kimso\\anaconda3\\envs\\csp_lda\\lib\\site-packages (from matplotlib<4.0.0,>=3.6.2->moabb) (1.4.8)\n",
      "Requirement already satisfied: packaging>=20.0 in c:\\users\\kimso\\anaconda3\\envs\\csp_lda\\lib\\site-packages (from matplotlib<4.0.0,>=3.6.2->moabb) (24.2)\n",
      "Requirement already satisfied: pillow>=8 in c:\\users\\kimso\\anaconda3\\envs\\csp_lda\\lib\\site-packages (from matplotlib<4.0.0,>=3.6.2->moabb) (11.1.0)\n",
      "Requirement already satisfied: pyparsing>=2.3.1 in c:\\users\\kimso\\anaconda3\\envs\\csp_lda\\lib\\site-packages (from matplotlib<4.0.0,>=3.6.2->moabb) (3.2.1)\n",
      "Requirement already satisfied: python-dateutil>=2.7 in c:\\users\\kimso\\anaconda3\\envs\\csp_lda\\lib\\site-packages (from matplotlib<4.0.0,>=3.6.2->moabb) (2.9.0.post0)\n",
      "Requirement already satisfied: psutil in c:\\users\\kimso\\anaconda3\\envs\\csp_lda\\lib\\site-packages (from memory-profiler<0.62.0,>=0.61.0->moabb) (6.1.1)\n",
      "Requirement already satisfied: decorator in c:\\users\\kimso\\anaconda3\\envs\\csp_lda\\lib\\site-packages (from mne<2.0.0,>=1.7.0->moabb) (5.1.1)\n",
      "Requirement already satisfied: jinja2 in c:\\users\\kimso\\anaconda3\\envs\\csp_lda\\lib\\site-packages (from mne<2.0.0,>=1.7.0->moabb) (3.1.5)\n",
      "Requirement already satisfied: lazy-loader>=0.3 in c:\\users\\kimso\\anaconda3\\envs\\csp_lda\\lib\\site-packages (from mne<2.0.0,>=1.7.0->moabb) (0.4)\n",
      "Requirement already satisfied: pytz>=2020.1 in c:\\users\\kimso\\anaconda3\\envs\\csp_lda\\lib\\site-packages (from pandas<2.0.0,>=1.5.2->moabb) (2025.1)\n",
      "Requirement already satisfied: platformdirs>=2.5.0 in c:\\users\\kimso\\anaconda3\\envs\\csp_lda\\lib\\site-packages (from pooch<2.0.0,>=1.6.0->moabb) (4.3.6)\n",
      "Requirement already satisfied: joblib in c:\\users\\kimso\\anaconda3\\envs\\csp_lda\\lib\\site-packages (from pyriemann<0.7,>=0.6->moabb) (1.4.2)\n",
      "Requirement already satisfied: iniconfig in c:\\users\\kimso\\anaconda3\\envs\\csp_lda\\lib\\site-packages (from pytest<8.0.0,>=7.4.0->moabb) (2.0.0)\n",
      "Requirement already satisfied: pluggy<2.0,>=0.12 in c:\\users\\kimso\\anaconda3\\envs\\csp_lda\\lib\\site-packages (from pytest<8.0.0,>=7.4.0->moabb) (1.5.0)\n",
      "Requirement already satisfied: exceptiongroup>=1.0.0rc8 in c:\\users\\kimso\\anaconda3\\envs\\csp_lda\\lib\\site-packages (from pytest<8.0.0,>=7.4.0->moabb) (1.2.2)\n",
      "Requirement already satisfied: tomli>=1.0.0 in c:\\users\\kimso\\anaconda3\\envs\\csp_lda\\lib\\site-packages (from pytest<8.0.0,>=7.4.0->moabb) (2.2.1)\n",
      "Requirement already satisfied: colorama in c:\\users\\kimso\\anaconda3\\envs\\csp_lda\\lib\\site-packages (from pytest<8.0.0,>=7.4.0->moabb) (0.4.6)\n",
      "Requirement already satisfied: charset-normalizer<4,>=2 in c:\\users\\kimso\\anaconda3\\envs\\csp_lda\\lib\\site-packages (from requests<3.0.0,>=2.28.1->moabb) (3.4.1)\n",
      "Requirement already satisfied: idna<4,>=2.5 in c:\\users\\kimso\\anaconda3\\envs\\csp_lda\\lib\\site-packages (from requests<3.0.0,>=2.28.1->moabb) (3.10)\n",
      "Requirement already satisfied: certifi>=2017.4.17 in c:\\users\\kimso\\anaconda3\\envs\\csp_lda\\lib\\site-packages (from requests<3.0.0,>=2.28.1->moabb) (2025.1.31)\n",
      "Requirement already satisfied: threadpoolctl>=3.1.0 in c:\\users\\kimso\\anaconda3\\envs\\csp_lda\\lib\\site-packages (from scikit-learn>=1.4.2->moabb) (3.5.0)\n",
      "Requirement already satisfied: six>=1.5 in c:\\users\\kimso\\anaconda3\\envs\\csp_lda\\lib\\site-packages (from python-dateutil>=2.7->matplotlib<4.0.0,>=3.6.2->moabb) (1.17.0)\n",
      "Requirement already satisfied: MarkupSafe>=2.0 in c:\\users\\kimso\\anaconda3\\envs\\csp_lda\\lib\\site-packages (from jinja2->mne<2.0.0,>=1.7.0->moabb) (3.0.2)\n"
     ]
    }
   ],
   "source": [
    "!pip install numpy moabb"
   ]
  },
  {
   "cell_type": "code",
   "execution_count": 1,
   "id": "2becd23a-8ba8-4a58-a747-055840b55de6",
   "metadata": {},
   "outputs": [],
   "source": [
    "import numpy as np\n",
    "from moabb.datasets import Cho2017\n",
    "from moabb.paradigms import LeftRightImagery\n",
    "from sklearn.model_selection import train_test_split\n",
    "from sklearn.linear_model import LogisticRegression\n",
    "from sklearn.metrics import accuracy_score, confusion_matrix, classification_report\n",
    "import matplotlib.pyplot as plt\n",
    "import seaborn as sns\n",
    "from mne.decoding import CSP\n",
    "from sklearn.discriminant_analysis import LinearDiscriminantAnalysis as LDA\n",
    "from sklearn.pipeline import make_pipeline\n",
    "from moabb.evaluations import CrossSessionEvaluation\n",
    "from moabb.paradigms import FilterBankLeftRightImagery, LeftRightImagery\n",
    "from moabb.pipelines.utils import FilterBank"
   ]
  },
  {
   "cell_type": "code",
   "execution_count": 28,
   "id": "be2c466d-67c4-4be7-ae5f-f97295de1d11",
   "metadata": {},
   "outputs": [],
   "source": [
    "pipelines = {}\n",
    "pipelines[\"CSP+LDA\"] = make_pipeline(CSP(n_components=8), LDA())"
   ]
  },
  {
   "cell_type": "code",
   "execution_count": 29,
   "id": "9199738f-8592-4be2-bd71-856f8edb5d1c",
   "metadata": {},
   "outputs": [
    {
     "name": "stderr",
     "output_type": "stream",
     "text": [
      "Trials demeaned and stacked with zero buffer to create continuous data -- edge effects present\n",
      "C:\\Users\\kimso\\anaconda3\\envs\\csp_lda\\lib\\site-packages\\moabb\\datasets\\preprocessing.py:279: UserWarning: warnEpochs <Epochs | 200 events (all good), 0 – 3 s (baseline off), ~150.2 MiB, data loaded,\n",
      " 'left_hand': 100\n",
      " 'right_hand': 100>\n",
      "  warn(f\"warnEpochs {epochs}\")\n",
      "C:\\Users\\kimso\\anaconda3\\envs\\csp_lda\\lib\\site-packages\\sklearn\\pipeline.py:62: FutureWarning: This Pipeline instance is not fitted yet. Call 'fit' with appropriate arguments before using other methods such as transform, predict, etc. This will raise an error in 1.8 instead of the current warning.\n",
      "  warnings.warn(\n"
     ]
    },
    {
     "name": "stdout",
     "output_type": "stream",
     "text": [
      "Computing rank from data with rank=None\n",
      "    Using tolerance 4.9e+03 (2.2e-16 eps * 64 dim * 3.5e+17  max singular value)\n",
      "    Estimated rank (data): 64\n",
      "    data: rank 64 computed from 64 data channels with 0 projectors\n",
      "Reducing data rank from 64 -> 64\n",
      "Estimating class=left_hand covariance using EMPIRICAL\n",
      "Done.\n",
      "Estimating class=right_hand covariance using EMPIRICAL\n",
      "Done.\n"
     ]
    }
   ],
   "source": [
    "# Load MOABB dataset with frequency band filtering\n",
    "fmin = 8  # 최소 주파수 8Hz\n",
    "fmax = 35  # 최대 주파수 35Hz\n",
    "paradigm = LeftRightImagery(fmin=fmin, fmax=fmax, resample=128)\n",
    "\n",
    "\n",
    "# Get data from the first subject and the first session\n",
    "dataset = Cho2017()\n",
    "X, y, metadata = paradigm.get_data(dataset=dataset, subjects=[1])\n",
    "\n",
    "# Apply CSP to extract spatial features\n",
    "csp = CSP(n_components=8)  # Extract 8 spatial components\n",
    "X_csp = csp.fit_transform(X, y)  # Transform the data using CSP"
   ]
  },
  {
   "cell_type": "code",
   "execution_count": 30,
   "id": "f058bbca-0176-4074-b566-534a94d98854",
   "metadata": {},
   "outputs": [
    {
     "name": "stdout",
     "output_type": "stream",
     "text": [
      "Logistic Regression 정확도 (Accuracy): 0.87\n"
     ]
    }
   ],
   "source": [
    "X_train, X_test, y_train, y_test = train_test_split(X_csp, y, test_size=0.3, random_state=42)\n",
    "\n",
    "# Train logistic regression model\n",
    "clf_lr = LogisticRegression()\n",
    "clf_lr.fit(X_train, y_train)\n",
    "\n",
    "# Make predictions and evaluate\n",
    "predict_lr = clf_lr.predict(X_test)\n",
    "accuracy_lr = accuracy_score(y_test, predict_lr)\n",
    "print(f\"Logistic Regression 정확도 (Accuracy): {accuracy_lr:.2f}\")"
   ]
  },
  {
   "cell_type": "code",
   "execution_count": 31,
   "id": "b88e20f1-b3cc-49d1-b6c1-1649a05505f7",
   "metadata": {},
   "outputs": [
    {
     "name": "stdout",
     "output_type": "stream",
     "text": [
      "LDA 정확도 (Accuracy): 0.88\n"
     ]
    }
   ],
   "source": [
    "clf_lda = LDA()\n",
    "clf_lda.fit(X_train, y_train)\n",
    "\n",
    "# Make predictions and evaluate\n",
    "predict_lda = clf_lda.predict(X_test)\n",
    "accuracy_lda = accuracy_score(y_test, predict_lda)\n",
    "print(f\"LDA 정확도 (Accuracy): {accuracy_lda:.2f}\")"
   ]
  },
  {
   "cell_type": "code",
   "execution_count": null,
   "id": "23638691-e0bc-4f92-b457-348bfa268098",
   "metadata": {},
   "outputs": [],
   "source": []
  },
  {
   "cell_type": "code",
   "execution_count": null,
   "id": "4f94333c-7696-41ac-bf10-568ee5000f02",
   "metadata": {},
   "outputs": [],
   "source": []
  },
  {
   "cell_type": "code",
   "execution_count": null,
   "id": "40ef2d5a-3945-4afb-a9ac-c9a01f6b9eaf",
   "metadata": {},
   "outputs": [],
   "source": []
  }
 ],
 "metadata": {
  "kernelspec": {
   "display_name": "Python [conda env:csp_lda]",
   "language": "python",
   "name": "conda-env-csp_lda-py"
  },
  "language_info": {
   "codemirror_mode": {
    "name": "ipython",
    "version": 3
   },
   "file_extension": ".py",
   "mimetype": "text/x-python",
   "name": "python",
   "nbconvert_exporter": "python",
   "pygments_lexer": "ipython3",
   "version": "3.10.16"
  }
 },
 "nbformat": 4,
 "nbformat_minor": 5
}
