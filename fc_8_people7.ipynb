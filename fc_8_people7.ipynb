{
 "cells": [
  {
   "cell_type": "markdown",
   "id": "e2b452fd-cd75-49c9-9e93-e2260770aac8",
   "metadata": {},
   "source": [
    "1. CSP로 이진분류\n",
    "2. 머신러닝 기법 이용(로지스틱) 데이터 분류\n",
    "3. 전처리된 데이터를 전결합층 fully connected 엡실러 층3개로 해서 해보기 V\n",
    "\n",
    "가상환경 환경 문제때문에 tensorflow가 안 깔렸었음... 왜지...정확한 이유는 모름 만약에 노 모듈 이난리 나면 base 아나콘다로 바꿀 것"
   ]
  },
  {
   "cell_type": "code",
   "execution_count": 1,
   "id": "af8f2c32-a1ea-4bbd-93a5-2aeaaa5d9905",
   "metadata": {},
   "outputs": [
    {
     "name": "stdout",
     "output_type": "stream",
     "text": [
      "Requirement already satisfied: numpy in c:\\users\\kimso\\anaconda3\\lib\\site-packages (1.26.4)\n",
      "Requirement already satisfied: moabb in c:\\users\\kimso\\anaconda3\\lib\\site-packages (1.1.1)\n",
      "Requirement already satisfied: PyYAML<7.0,>=6.0 in c:\\users\\kimso\\anaconda3\\lib\\site-packages (from moabb) (6.0.1)\n",
      "Requirement already satisfied: coverage<8.0.0,>=7.0.1 in c:\\users\\kimso\\anaconda3\\lib\\site-packages (from moabb) (7.6.12)\n",
      "Requirement already satisfied: edfio<0.5.0,>=0.4.2 in c:\\users\\kimso\\anaconda3\\lib\\site-packages (from moabb) (0.4.5)\n",
      "Requirement already satisfied: edflib-python<2.0.0,>=1.0.6 in c:\\users\\kimso\\anaconda3\\lib\\site-packages (from moabb) (1.0.8)\n",
      "Requirement already satisfied: h5py<4.0.0,>=3.10.0 in c:\\users\\kimso\\anaconda3\\lib\\site-packages (from moabb) (3.11.0)\n",
      "Requirement already satisfied: matplotlib<4.0.0,>=3.6.2 in c:\\users\\kimso\\anaconda3\\lib\\site-packages (from moabb) (3.9.2)\n",
      "Requirement already satisfied: memory-profiler<0.62.0,>=0.61.0 in c:\\users\\kimso\\anaconda3\\lib\\site-packages (from moabb) (0.61.0)\n",
      "Requirement already satisfied: mne<2.0.0,>=1.7.0 in c:\\users\\kimso\\anaconda3\\lib\\site-packages (from moabb) (1.9.0)\n",
      "Requirement already satisfied: mne-bids<0.15,>=0.14 in c:\\users\\kimso\\anaconda3\\lib\\site-packages (from moabb) (0.14)\n",
      "Requirement already satisfied: pandas<2.0.0,>=1.5.2 in c:\\users\\kimso\\anaconda3\\lib\\site-packages (from moabb) (1.5.3)\n",
      "Requirement already satisfied: pooch<2.0.0,>=1.6.0 in c:\\users\\kimso\\anaconda3\\lib\\site-packages (from moabb) (1.8.2)\n",
      "Requirement already satisfied: pyriemann<0.7,>=0.6 in c:\\users\\kimso\\anaconda3\\lib\\site-packages (from moabb) (0.6)\n",
      "Requirement already satisfied: pytest<8.0.0,>=7.4.0 in c:\\users\\kimso\\anaconda3\\lib\\site-packages (from moabb) (7.4.4)\n",
      "Requirement already satisfied: requests<3.0.0,>=2.28.1 in c:\\users\\kimso\\anaconda3\\lib\\site-packages (from moabb) (2.32.3)\n",
      "Requirement already satisfied: scikit-learn>=1.4.2 in c:\\users\\kimso\\anaconda3\\lib\\site-packages (from moabb) (1.5.1)\n",
      "Requirement already satisfied: scipy<2.0.0,>=1.9.3 in c:\\users\\kimso\\anaconda3\\lib\\site-packages (from moabb) (1.13.1)\n",
      "Requirement already satisfied: seaborn<0.13.0,>=0.12.1 in c:\\users\\kimso\\anaconda3\\lib\\site-packages (from moabb) (0.12.2)\n",
      "Requirement already satisfied: tqdm<5.0.0,>=4.64.1 in c:\\users\\kimso\\anaconda3\\lib\\site-packages (from moabb) (4.66.5)\n",
      "Requirement already satisfied: urllib3<2.0.0,>=1.26.15 in c:\\users\\kimso\\anaconda3\\lib\\site-packages (from moabb) (1.26.20)\n",
      "Requirement already satisfied: contourpy>=1.0.1 in c:\\users\\kimso\\anaconda3\\lib\\site-packages (from matplotlib<4.0.0,>=3.6.2->moabb) (1.2.0)\n",
      "Requirement already satisfied: cycler>=0.10 in c:\\users\\kimso\\anaconda3\\lib\\site-packages (from matplotlib<4.0.0,>=3.6.2->moabb) (0.11.0)\n",
      "Requirement already satisfied: fonttools>=4.22.0 in c:\\users\\kimso\\anaconda3\\lib\\site-packages (from matplotlib<4.0.0,>=3.6.2->moabb) (4.51.0)\n",
      "Requirement already satisfied: kiwisolver>=1.3.1 in c:\\users\\kimso\\anaconda3\\lib\\site-packages (from matplotlib<4.0.0,>=3.6.2->moabb) (1.4.4)\n",
      "Requirement already satisfied: packaging>=20.0 in c:\\users\\kimso\\anaconda3\\lib\\site-packages (from matplotlib<4.0.0,>=3.6.2->moabb) (24.1)\n",
      "Requirement already satisfied: pillow>=8 in c:\\users\\kimso\\anaconda3\\lib\\site-packages (from matplotlib<4.0.0,>=3.6.2->moabb) (10.4.0)\n",
      "Requirement already satisfied: pyparsing>=2.3.1 in c:\\users\\kimso\\anaconda3\\lib\\site-packages (from matplotlib<4.0.0,>=3.6.2->moabb) (3.1.2)\n",
      "Requirement already satisfied: python-dateutil>=2.7 in c:\\users\\kimso\\anaconda3\\lib\\site-packages (from matplotlib<4.0.0,>=3.6.2->moabb) (2.9.0.post0)\n",
      "Requirement already satisfied: psutil in c:\\users\\kimso\\anaconda3\\lib\\site-packages (from memory-profiler<0.62.0,>=0.61.0->moabb) (5.9.0)\n",
      "Requirement already satisfied: decorator in c:\\users\\kimso\\anaconda3\\lib\\site-packages (from mne<2.0.0,>=1.7.0->moabb) (5.1.1)\n",
      "Requirement already satisfied: jinja2 in c:\\users\\kimso\\anaconda3\\lib\\site-packages (from mne<2.0.0,>=1.7.0->moabb) (3.1.4)\n",
      "Requirement already satisfied: lazy-loader>=0.3 in c:\\users\\kimso\\anaconda3\\lib\\site-packages (from mne<2.0.0,>=1.7.0->moabb) (0.4)\n",
      "Requirement already satisfied: pytz>=2020.1 in c:\\users\\kimso\\anaconda3\\lib\\site-packages (from pandas<2.0.0,>=1.5.2->moabb) (2024.1)\n",
      "Requirement already satisfied: platformdirs>=2.5.0 in c:\\users\\kimso\\anaconda3\\lib\\site-packages (from pooch<2.0.0,>=1.6.0->moabb) (3.10.0)\n",
      "Requirement already satisfied: joblib in c:\\users\\kimso\\anaconda3\\lib\\site-packages (from pyriemann<0.7,>=0.6->moabb) (1.4.2)\n",
      "Requirement already satisfied: iniconfig in c:\\users\\kimso\\anaconda3\\lib\\site-packages (from pytest<8.0.0,>=7.4.0->moabb) (1.1.1)\n",
      "Requirement already satisfied: pluggy<2.0,>=0.12 in c:\\users\\kimso\\anaconda3\\lib\\site-packages (from pytest<8.0.0,>=7.4.0->moabb) (1.0.0)\n",
      "Requirement already satisfied: colorama in c:\\users\\kimso\\anaconda3\\lib\\site-packages (from pytest<8.0.0,>=7.4.0->moabb) (0.4.6)\n",
      "Requirement already satisfied: charset-normalizer<4,>=2 in c:\\users\\kimso\\anaconda3\\lib\\site-packages (from requests<3.0.0,>=2.28.1->moabb) (3.3.2)\n",
      "Requirement already satisfied: idna<4,>=2.5 in c:\\users\\kimso\\anaconda3\\lib\\site-packages (from requests<3.0.0,>=2.28.1->moabb) (3.7)\n",
      "Requirement already satisfied: certifi>=2017.4.17 in c:\\users\\kimso\\anaconda3\\lib\\site-packages (from requests<3.0.0,>=2.28.1->moabb) (2025.1.31)\n",
      "Requirement already satisfied: threadpoolctl>=3.1.0 in c:\\users\\kimso\\anaconda3\\lib\\site-packages (from scikit-learn>=1.4.2->moabb) (3.5.0)\n",
      "Requirement already satisfied: six>=1.5 in c:\\users\\kimso\\anaconda3\\lib\\site-packages (from python-dateutil>=2.7->matplotlib<4.0.0,>=3.6.2->moabb) (1.16.0)\n",
      "Requirement already satisfied: MarkupSafe>=2.0 in c:\\users\\kimso\\anaconda3\\lib\\site-packages (from jinja2->mne<2.0.0,>=1.7.0->moabb) (2.1.3)\n"
     ]
    }
   ],
   "source": [
    "!pip install numpy moabb"
   ]
  },
  {
   "cell_type": "code",
   "execution_count": 2,
   "id": "9b323fa2-c657-49fa-8465-24220419ff72",
   "metadata": {},
   "outputs": [
    {
     "name": "stderr",
     "output_type": "stream",
     "text": [
      "C:\\Users\\kimso\\anaconda3\\Lib\\site-packages\\paramiko\\pkey.py:82: CryptographyDeprecationWarning: TripleDES has been moved to cryptography.hazmat.decrepit.ciphers.algorithms.TripleDES and will be removed from this module in 48.0.0.\n",
      "  \"cipher\": algorithms.TripleDES,\n",
      "C:\\Users\\kimso\\anaconda3\\Lib\\site-packages\\paramiko\\transport.py:219: CryptographyDeprecationWarning: Blowfish has been moved to cryptography.hazmat.decrepit.ciphers.algorithms.Blowfish and will be removed from this module in 45.0.0.\n",
      "  \"class\": algorithms.Blowfish,\n",
      "C:\\Users\\kimso\\anaconda3\\Lib\\site-packages\\paramiko\\transport.py:243: CryptographyDeprecationWarning: TripleDES has been moved to cryptography.hazmat.decrepit.ciphers.algorithms.TripleDES and will be removed from this module in 48.0.0.\n",
      "  \"class\": algorithms.TripleDES,\n"
     ]
    }
   ],
   "source": [
    "import numpy as np\n",
    "import pandas as pd\n",
    "from tensorflow.keras.models import Sequential\n",
    "from tensorflow.keras.layers import Dense, Dropout, BatchNormalization\n",
    "from sklearn.model_selection import train_test_split\n",
    "from sklearn.preprocessing import StandardScaler\n",
    "from sklearn.metrics import accuracy_score, classification_report, confusion_matrix\n",
    "from mne.decoding import CSP\n",
    "from moabb.datasets import BNCI2014_008\n",
    "from moabb.paradigms import P300\n",
    "from tensorflow.keras.optimizers import Nadam"
   ]
  },
  {
   "cell_type": "code",
   "execution_count": 3,
   "id": "0b5cd8f3-cd1a-4310-a720-6edb22d0ffaf",
   "metadata": {},
   "outputs": [],
   "source": [
    "import tensorflow"
   ]
  },
  {
   "cell_type": "code",
   "execution_count": 4,
   "id": "d3072fd0-11eb-4e45-a71a-45f2a52d5860",
   "metadata": {},
   "outputs": [
    {
     "name": "stdout",
     "output_type": "stream",
     "text": [
      "Requirement already satisfied: tensorflow in c:\\users\\kimso\\anaconda3\\lib\\site-packages (2.18.0)\n",
      "Requirement already satisfied: tensorflow-intel==2.18.0 in c:\\users\\kimso\\anaconda3\\lib\\site-packages (from tensorflow) (2.18.0)\n",
      "Requirement already satisfied: absl-py>=1.0.0 in c:\\users\\kimso\\anaconda3\\lib\\site-packages (from tensorflow-intel==2.18.0->tensorflow) (2.1.0)\n",
      "Requirement already satisfied: astunparse>=1.6.0 in c:\\users\\kimso\\anaconda3\\lib\\site-packages (from tensorflow-intel==2.18.0->tensorflow) (1.6.3)\n",
      "Requirement already satisfied: flatbuffers>=24.3.25 in c:\\users\\kimso\\anaconda3\\lib\\site-packages (from tensorflow-intel==2.18.0->tensorflow) (25.2.10)\n",
      "Requirement already satisfied: gast!=0.5.0,!=0.5.1,!=0.5.2,>=0.2.1 in c:\\users\\kimso\\anaconda3\\lib\\site-packages (from tensorflow-intel==2.18.0->tensorflow) (0.6.0)\n",
      "Requirement already satisfied: google-pasta>=0.1.1 in c:\\users\\kimso\\anaconda3\\lib\\site-packages (from tensorflow-intel==2.18.0->tensorflow) (0.2.0)\n",
      "Requirement already satisfied: libclang>=13.0.0 in c:\\users\\kimso\\anaconda3\\lib\\site-packages (from tensorflow-intel==2.18.0->tensorflow) (18.1.1)\n",
      "Requirement already satisfied: opt-einsum>=2.3.2 in c:\\users\\kimso\\anaconda3\\lib\\site-packages (from tensorflow-intel==2.18.0->tensorflow) (3.4.0)\n",
      "Requirement already satisfied: packaging in c:\\users\\kimso\\anaconda3\\lib\\site-packages (from tensorflow-intel==2.18.0->tensorflow) (24.1)\n",
      "Requirement already satisfied: protobuf!=4.21.0,!=4.21.1,!=4.21.2,!=4.21.3,!=4.21.4,!=4.21.5,<6.0.0dev,>=3.20.3 in c:\\users\\kimso\\anaconda3\\lib\\site-packages (from tensorflow-intel==2.18.0->tensorflow) (4.25.3)\n",
      "Requirement already satisfied: requests<3,>=2.21.0 in c:\\users\\kimso\\anaconda3\\lib\\site-packages (from tensorflow-intel==2.18.0->tensorflow) (2.32.3)\n",
      "Requirement already satisfied: setuptools in c:\\users\\kimso\\anaconda3\\lib\\site-packages (from tensorflow-intel==2.18.0->tensorflow) (75.1.0)\n",
      "Requirement already satisfied: six>=1.12.0 in c:\\users\\kimso\\anaconda3\\lib\\site-packages (from tensorflow-intel==2.18.0->tensorflow) (1.16.0)\n",
      "Requirement already satisfied: termcolor>=1.1.0 in c:\\users\\kimso\\anaconda3\\lib\\site-packages (from tensorflow-intel==2.18.0->tensorflow) (2.5.0)\n",
      "Requirement already satisfied: typing-extensions>=3.6.6 in c:\\users\\kimso\\anaconda3\\lib\\site-packages (from tensorflow-intel==2.18.0->tensorflow) (4.11.0)\n",
      "Requirement already satisfied: wrapt>=1.11.0 in c:\\users\\kimso\\anaconda3\\lib\\site-packages (from tensorflow-intel==2.18.0->tensorflow) (1.14.1)\n",
      "Requirement already satisfied: grpcio<2.0,>=1.24.3 in c:\\users\\kimso\\anaconda3\\lib\\site-packages (from tensorflow-intel==2.18.0->tensorflow) (1.70.0)\n",
      "Requirement already satisfied: tensorboard<2.19,>=2.18 in c:\\users\\kimso\\anaconda3\\lib\\site-packages (from tensorflow-intel==2.18.0->tensorflow) (2.18.0)\n",
      "Requirement already satisfied: keras>=3.5.0 in c:\\users\\kimso\\anaconda3\\lib\\site-packages (from tensorflow-intel==2.18.0->tensorflow) (3.8.0)\n",
      "Requirement already satisfied: numpy<2.1.0,>=1.26.0 in c:\\users\\kimso\\anaconda3\\lib\\site-packages (from tensorflow-intel==2.18.0->tensorflow) (1.26.4)\n",
      "Requirement already satisfied: h5py>=3.11.0 in c:\\users\\kimso\\anaconda3\\lib\\site-packages (from tensorflow-intel==2.18.0->tensorflow) (3.11.0)\n",
      "Requirement already satisfied: ml-dtypes<0.5.0,>=0.4.0 in c:\\users\\kimso\\anaconda3\\lib\\site-packages (from tensorflow-intel==2.18.0->tensorflow) (0.4.1)\n",
      "Requirement already satisfied: wheel<1.0,>=0.23.0 in c:\\users\\kimso\\anaconda3\\lib\\site-packages (from astunparse>=1.6.0->tensorflow-intel==2.18.0->tensorflow) (0.44.0)\n",
      "Requirement already satisfied: rich in c:\\users\\kimso\\anaconda3\\lib\\site-packages (from keras>=3.5.0->tensorflow-intel==2.18.0->tensorflow) (13.7.1)\n",
      "Requirement already satisfied: namex in c:\\users\\kimso\\anaconda3\\lib\\site-packages (from keras>=3.5.0->tensorflow-intel==2.18.0->tensorflow) (0.0.8)\n",
      "Requirement already satisfied: optree in c:\\users\\kimso\\anaconda3\\lib\\site-packages (from keras>=3.5.0->tensorflow-intel==2.18.0->tensorflow) (0.14.0)\n",
      "Requirement already satisfied: charset-normalizer<4,>=2 in c:\\users\\kimso\\anaconda3\\lib\\site-packages (from requests<3,>=2.21.0->tensorflow-intel==2.18.0->tensorflow) (3.3.2)\n",
      "Requirement already satisfied: idna<4,>=2.5 in c:\\users\\kimso\\anaconda3\\lib\\site-packages (from requests<3,>=2.21.0->tensorflow-intel==2.18.0->tensorflow) (3.7)\n",
      "Requirement already satisfied: urllib3<3,>=1.21.1 in c:\\users\\kimso\\anaconda3\\lib\\site-packages (from requests<3,>=2.21.0->tensorflow-intel==2.18.0->tensorflow) (1.26.20)\n",
      "Requirement already satisfied: certifi>=2017.4.17 in c:\\users\\kimso\\anaconda3\\lib\\site-packages (from requests<3,>=2.21.0->tensorflow-intel==2.18.0->tensorflow) (2025.1.31)\n",
      "Requirement already satisfied: markdown>=2.6.8 in c:\\users\\kimso\\anaconda3\\lib\\site-packages (from tensorboard<2.19,>=2.18->tensorflow-intel==2.18.0->tensorflow) (3.4.1)\n",
      "Requirement already satisfied: tensorboard-data-server<0.8.0,>=0.7.0 in c:\\users\\kimso\\anaconda3\\lib\\site-packages (from tensorboard<2.19,>=2.18->tensorflow-intel==2.18.0->tensorflow) (0.7.2)\n",
      "Requirement already satisfied: werkzeug>=1.0.1 in c:\\users\\kimso\\anaconda3\\lib\\site-packages (from tensorboard<2.19,>=2.18->tensorflow-intel==2.18.0->tensorflow) (3.0.3)\n",
      "Requirement already satisfied: MarkupSafe>=2.1.1 in c:\\users\\kimso\\anaconda3\\lib\\site-packages (from werkzeug>=1.0.1->tensorboard<2.19,>=2.18->tensorflow-intel==2.18.0->tensorflow) (2.1.3)\n",
      "Requirement already satisfied: markdown-it-py>=2.2.0 in c:\\users\\kimso\\anaconda3\\lib\\site-packages (from rich->keras>=3.5.0->tensorflow-intel==2.18.0->tensorflow) (2.2.0)\n",
      "Requirement already satisfied: pygments<3.0.0,>=2.13.0 in c:\\users\\kimso\\anaconda3\\lib\\site-packages (from rich->keras>=3.5.0->tensorflow-intel==2.18.0->tensorflow) (2.15.1)\n",
      "Requirement already satisfied: mdurl~=0.1 in c:\\users\\kimso\\anaconda3\\lib\\site-packages (from markdown-it-py>=2.2.0->rich->keras>=3.5.0->tensorflow-intel==2.18.0->tensorflow) (0.1.0)\n"
     ]
    }
   ],
   "source": [
    "!pip install tensorflow"
   ]
  },
  {
   "cell_type": "code",
   "execution_count": 5,
   "id": "05795af7-565a-4c42-b4d5-54e84569b28f",
   "metadata": {},
   "outputs": [],
   "source": [
    "dataset = BNCI2014_008()"
   ]
  },
  {
   "cell_type": "code",
   "execution_count": 6,
   "id": "7369417c-6c85-4e1b-a26d-f9c85aac26a3",
   "metadata": {},
   "outputs": [],
   "source": [
    "paradigm = P300()"
   ]
  },
  {
   "cell_type": "code",
   "execution_count": 7,
   "id": "b925f237-286c-4dd2-be3e-e10a426b2419",
   "metadata": {},
   "outputs": [
    {
     "name": "stderr",
     "output_type": "stream",
     "text": [
      "C:\\Users\\kimso\\anaconda3\\Lib\\site-packages\\moabb\\datasets\\preprocessing.py:279: UserWarning: warnEpochs <Epochs | 4200 events (all good), 0 – 1 s (baseline off), ~65.9 MiB, data loaded,\n",
      " 'Target': 700\n",
      " 'NonTarget': 3500>\n",
      "  warn(f\"warnEpochs {epochs}\")\n",
      "C:\\Users\\kimso\\anaconda3\\Lib\\site-packages\\moabb\\datasets\\preprocessing.py:279: UserWarning: warnEpochs <Epochs | 4200 events (all good), 0 – 1 s (baseline off), ~65.9 MiB, data loaded,\n",
      " 'Target': 700\n",
      " 'NonTarget': 3500>\n",
      "  warn(f\"warnEpochs {epochs}\")\n",
      "C:\\Users\\kimso\\anaconda3\\Lib\\site-packages\\moabb\\datasets\\preprocessing.py:279: UserWarning: warnEpochs <Epochs | 4200 events (all good), 0 – 1 s (baseline off), ~65.9 MiB, data loaded,\n",
      " 'Target': 700\n",
      " 'NonTarget': 3500>\n",
      "  warn(f\"warnEpochs {epochs}\")\n",
      "C:\\Users\\kimso\\anaconda3\\Lib\\site-packages\\moabb\\datasets\\preprocessing.py:279: UserWarning: warnEpochs <Epochs | 4200 events (all good), 0 – 1 s (baseline off), ~65.9 MiB, data loaded,\n",
      " 'Target': 700\n",
      " 'NonTarget': 3500>\n",
      "  warn(f\"warnEpochs {epochs}\")\n",
      "C:\\Users\\kimso\\anaconda3\\Lib\\site-packages\\moabb\\datasets\\preprocessing.py:279: UserWarning: warnEpochs <Epochs | 4200 events (all good), 0 – 1 s (baseline off), ~65.9 MiB, data loaded,\n",
      " 'Target': 700\n",
      " 'NonTarget': 3500>\n",
      "  warn(f\"warnEpochs {epochs}\")\n",
      "C:\\Users\\kimso\\anaconda3\\Lib\\site-packages\\moabb\\datasets\\preprocessing.py:279: UserWarning: warnEpochs <Epochs | 4200 events (all good), 0 – 1 s (baseline off), ~65.9 MiB, data loaded,\n",
      " 'Target': 700\n",
      " 'NonTarget': 3500>\n",
      "  warn(f\"warnEpochs {epochs}\")\n",
      "C:\\Users\\kimso\\anaconda3\\Lib\\site-packages\\moabb\\datasets\\preprocessing.py:279: UserWarning: warnEpochs <Epochs | 4200 events (all good), 0 – 1 s (baseline off), ~65.9 MiB, data loaded,\n",
      " 'Target': 700\n",
      " 'NonTarget': 3500>\n",
      "  warn(f\"warnEpochs {epochs}\")\n",
      "C:\\Users\\kimso\\anaconda3\\Lib\\site-packages\\moabb\\datasets\\preprocessing.py:279: UserWarning: warnEpochs <Epochs | 4200 events (all good), 0 – 1 s (baseline off), ~65.9 MiB, data loaded,\n",
      " 'Target': 700\n",
      " 'NonTarget': 3500>\n",
      "  warn(f\"warnEpochs {epochs}\")\n"
     ]
    }
   ],
   "source": [
    "X, labels, meta = paradigm.get_data(dataset=dataset)"
   ]
  },
  {
   "cell_type": "code",
   "execution_count": 8,
   "id": "b66c7350-74bb-4c5c-9362-b3564727053b",
   "metadata": {},
   "outputs": [
    {
     "name": "stdout",
     "output_type": "stream",
     "text": [
      "X shape: (33600, 8, 257)\n",
      "Labels shape: (33600,)\n"
     ]
    }
   ],
   "source": [
    "print(\"X shape:\", X.shape)  # (33600, 8, 257) -> (샘플 수, 채널 수, 시간 축)\n",
    "print(\"Labels shape:\", labels.shape)  # (33600,)"
   ]
  },
  {
   "cell_type": "code",
   "execution_count": 9,
   "id": "b1a884ea-d362-4f80-bfa8-66f04d403ab6",
   "metadata": {},
   "outputs": [],
   "source": [
    "X_train, X_test, y_train, y_test = train_test_split(X, labels, test_size=0.2, random_state=42)"
   ]
  },
  {
   "cell_type": "code",
   "execution_count": 10,
   "id": "5561eb13-c5cd-4216-810e-620dd171c6d4",
   "metadata": {},
   "outputs": [
    {
     "name": "stdout",
     "output_type": "stream",
     "text": [
      "X shape: (26880, 8, 257)\n",
      "Labels shape: (26880,)\n"
     ]
    }
   ],
   "source": [
    "print(\"X shape:\", X_train.shape)  # (33600, 8, 257) -> (샘플 수, 채널 수, 시간 축)\n",
    "print(\"Labels shape:\", y_train.shape)  # (33600,)"
   ]
  },
  {
   "cell_type": "code",
   "execution_count": 11,
   "id": "1590e6b9-2c74-4352-8f38-7c6aa9d031ef",
   "metadata": {},
   "outputs": [
    {
     "name": "stdout",
     "output_type": "stream",
     "text": [
      "Computing rank from data with rank=None\n",
      "    Using tolerance 1e+02 (2.2e-16 eps * 8 dim * 5.7e+16  max singular value)\n",
      "    Estimated rank (data): 8\n",
      "    data: rank 8 computed from 8 data channels with 0 projectors\n",
      "Reducing data rank from 8 -> 8\n",
      "Estimating class=NonTarget covariance using EMPIRICAL\n",
      "Done.\n",
      "Estimating class=Target covariance using EMPIRICAL\n",
      "Done.\n"
     ]
    }
   ],
   "source": [
    "csp = CSP(n_components=50, reg=None, log=True, norm_trace=False)\n",
    "\n",
    "# CSP 변환 수행 (3D 형태 유지)\n",
    "X_train_csp = csp.fit_transform(X_train, y_train)\n",
    "X_test_csp = csp.transform(X_test)"
   ]
  },
  {
   "cell_type": "code",
   "execution_count": 12,
   "id": "c029475f-ad97-4ce9-beb1-b32616556012",
   "metadata": {},
   "outputs": [
    {
     "name": "stdout",
     "output_type": "stream",
     "text": [
      "CSP 변환 후 X_train_csp shape: (26880, 8)\n",
      "CSP 변환 후 X_test_csp shape: (6720, 8)\n"
     ]
    }
   ],
   "source": [
    "print(\"CSP 변환 후 X_train_csp shape:\", X_train_csp.shape)  \n",
    "print(\"CSP 변환 후 X_test_csp shape:\", X_test_csp.shape)  "
   ]
  },
  {
   "cell_type": "code",
   "execution_count": 13,
   "id": "03f58273-2289-4ad8-837f-814d79b67b41",
   "metadata": {},
   "outputs": [],
   "source": [
    "scaler = StandardScaler()\n",
    "X_train_csp = scaler.fit_transform(X_train_csp)\n",
    "X_test_csp = scaler.transform(X_test_csp)"
   ]
  },
  {
   "cell_type": "code",
   "execution_count": 14,
   "id": "7ea3a4e5-44ce-4ce3-b693-cdf730fe5609",
   "metadata": {},
   "outputs": [
    {
     "name": "stderr",
     "output_type": "stream",
     "text": [
      "C:\\Users\\kimso\\anaconda3\\Lib\\site-packages\\keras\\src\\layers\\core\\dense.py:87: UserWarning: Do not pass an `input_shape`/`input_dim` argument to a layer. When using Sequential models, prefer using an `Input(shape)` object as the first layer in the model instead.\n",
      "  super().__init__(activity_regularizer=activity_regularizer, **kwargs)\n"
     ]
    }
   ],
   "source": [
    "model = Sequential([\n",
    "    Dense(128, activation='relu', input_shape=(X_train_csp.shape[1],)),  # 입력층\n",
    "    BatchNormalization(),  # 배치 정규화\n",
    "    Dropout(0.2),  # 과적합 방지용 Dropout\n",
    "\n",
    "    Dense(64, activation='relu'),  # 첫 번째 은닉층 (엡실론층)\n",
    "    BatchNormalization(),\n",
    "    Dropout(0.2),\n",
    "\n",
    "    Dense(32, activation='relu'),  # 두 번째 은닉층 (엡실론층)\n",
    "    BatchNormalization(),\n",
    "    Dropout(0.2),\n",
    "\n",
    "    Dense(1, activation='sigmoid')  # 출력층 (이진 분류 → sigmoid 사용)\n",
    "])"
   ]
  },
  {
   "cell_type": "code",
   "execution_count": 15,
   "id": "97479b52-ed6f-4fd6-9e8b-4492147dbd5c",
   "metadata": {},
   "outputs": [
    {
     "name": "stdout",
     "output_type": "stream",
     "text": [
      "['NonTarget' 'Target']\n",
      "['NonTarget' 'Target']\n"
     ]
    }
   ],
   "source": [
    "print(np.unique(y_train))  # y_train에 어떤 값들이 있는지 확인\n",
    "print(np.unique(y_test))"
   ]
  },
  {
   "cell_type": "code",
   "execution_count": 16,
   "id": "b55f58f8-37fb-4535-b3ae-f71f6d98312c",
   "metadata": {},
   "outputs": [],
   "source": [
    "y_train = np.where(y_train == 'Target', 1, 0).astype(np.int32)\n",
    "y_test = np.where(y_test == 'Target', 1, 0).astype(np.int32)"
   ]
  },
  {
   "cell_type": "code",
   "execution_count": 17,
   "id": "020ca676-4f1d-44b5-adc2-40f3a361e730",
   "metadata": {},
   "outputs": [],
   "source": [
    "from tensorflow.keras.callbacks import EarlyStopping"
   ]
  },
  {
   "cell_type": "code",
   "execution_count": 18,
   "id": "391ada23-de54-48a0-8803-ec27e3764eb0",
   "metadata": {},
   "outputs": [
    {
     "data": {
      "text/plain": [
       "(26880, 8)"
      ]
     },
     "execution_count": 18,
     "metadata": {},
     "output_type": "execute_result"
    }
   ],
   "source": [
    "X_train_csp.shape"
   ]
  },
  {
   "cell_type": "code",
   "execution_count": 19,
   "id": "4cd34143-d0bf-44ae-abba-eac7c92a998f",
   "metadata": {},
   "outputs": [],
   "source": [
    "optimizer = Nadam(learning_rate=0.0005)\n",
    "\n",
    "# 모델 컴파일\n",
    "model.compile(optimizer=optimizer, loss='binary_crossentropy', metrics=['accuracy'])\n",
    "\n",
    "# EarlyStopping 적용\n",
    "early_stopping = EarlyStopping(monitor='val_loss', patience=5, restore_best_weights=True)"
   ]
  },
  {
   "cell_type": "code",
   "execution_count": 20,
   "id": "63de163d-b37a-4372-9c37-2ad8c135378b",
   "metadata": {},
   "outputs": [
    {
     "name": "stdout",
     "output_type": "stream",
     "text": [
      "Epoch 1/50\n",
      "\u001b[1m840/840\u001b[0m \u001b[32m━━━━━━━━━━━━━━━━━━━━\u001b[0m\u001b[37m\u001b[0m \u001b[1m13s\u001b[0m 7ms/step - accuracy: 0.6586 - loss: 0.6661 - val_accuracy: 0.8366 - val_loss: 0.4484\n",
      "Epoch 2/50\n",
      "\u001b[1m840/840\u001b[0m \u001b[32m━━━━━━━━━━━━━━━━━━━━\u001b[0m\u001b[37m\u001b[0m \u001b[1m5s\u001b[0m 6ms/step - accuracy: 0.8235 - loss: 0.4762 - val_accuracy: 0.8366 - val_loss: 0.4462\n",
      "Epoch 3/50\n",
      "\u001b[1m840/840\u001b[0m \u001b[32m━━━━━━━━━━━━━━━━━━━━\u001b[0m\u001b[37m\u001b[0m \u001b[1m5s\u001b[0m 6ms/step - accuracy: 0.8333 - loss: 0.4665 - val_accuracy: 0.8366 - val_loss: 0.4437\n",
      "Epoch 4/50\n",
      "\u001b[1m840/840\u001b[0m \u001b[32m━━━━━━━━━━━━━━━━━━━━\u001b[0m\u001b[37m\u001b[0m \u001b[1m5s\u001b[0m 6ms/step - accuracy: 0.8342 - loss: 0.4564 - val_accuracy: 0.8366 - val_loss: 0.4432\n",
      "Epoch 5/50\n",
      "\u001b[1m840/840\u001b[0m \u001b[32m━━━━━━━━━━━━━━━━━━━━\u001b[0m\u001b[37m\u001b[0m \u001b[1m5s\u001b[0m 6ms/step - accuracy: 0.8305 - loss: 0.4574 - val_accuracy: 0.8366 - val_loss: 0.4437\n",
      "Epoch 6/50\n",
      "\u001b[1m840/840\u001b[0m \u001b[32m━━━━━━━━━━━━━━━━━━━━\u001b[0m\u001b[37m\u001b[0m \u001b[1m5s\u001b[0m 6ms/step - accuracy: 0.8298 - loss: 0.4605 - val_accuracy: 0.8366 - val_loss: 0.4427\n",
      "Epoch 7/50\n",
      "\u001b[1m840/840\u001b[0m \u001b[32m━━━━━━━━━━━━━━━━━━━━\u001b[0m\u001b[37m\u001b[0m \u001b[1m5s\u001b[0m 6ms/step - accuracy: 0.8325 - loss: 0.4550 - val_accuracy: 0.8366 - val_loss: 0.4431\n",
      "Epoch 8/50\n",
      "\u001b[1m840/840\u001b[0m \u001b[32m━━━━━━━━━━━━━━━━━━━━\u001b[0m\u001b[37m\u001b[0m \u001b[1m5s\u001b[0m 6ms/step - accuracy: 0.8352 - loss: 0.4489 - val_accuracy: 0.8366 - val_loss: 0.4421\n",
      "Epoch 9/50\n",
      "\u001b[1m840/840\u001b[0m \u001b[32m━━━━━━━━━━━━━━━━━━━━\u001b[0m\u001b[37m\u001b[0m \u001b[1m5s\u001b[0m 6ms/step - accuracy: 0.8309 - loss: 0.4546 - val_accuracy: 0.8366 - val_loss: 0.4430\n",
      "Epoch 10/50\n",
      "\u001b[1m840/840\u001b[0m \u001b[32m━━━━━━━━━━━━━━━━━━━━\u001b[0m\u001b[37m\u001b[0m \u001b[1m5s\u001b[0m 6ms/step - accuracy: 0.8301 - loss: 0.4554 - val_accuracy: 0.8366 - val_loss: 0.4425\n",
      "Epoch 11/50\n",
      "\u001b[1m840/840\u001b[0m \u001b[32m━━━━━━━━━━━━━━━━━━━━\u001b[0m\u001b[37m\u001b[0m \u001b[1m1704s\u001b[0m 2s/step - accuracy: 0.8292 - loss: 0.4558 - val_accuracy: 0.8366 - val_loss: 0.4439\n",
      "Epoch 12/50\n",
      "\u001b[1m840/840\u001b[0m \u001b[32m━━━━━━━━━━━━━━━━━━━━\u001b[0m\u001b[37m\u001b[0m \u001b[1m4s\u001b[0m 4ms/step - accuracy: 0.8342 - loss: 0.4496 - val_accuracy: 0.8366 - val_loss: 0.4436\n",
      "Epoch 13/50\n",
      "\u001b[1m840/840\u001b[0m \u001b[32m━━━━━━━━━━━━━━━━━━━━\u001b[0m\u001b[37m\u001b[0m \u001b[1m4s\u001b[0m 4ms/step - accuracy: 0.8303 - loss: 0.4530 - val_accuracy: 0.8366 - val_loss: 0.4428\n",
      "Epoch 14/50\n",
      "\u001b[1m840/840\u001b[0m \u001b[32m━━━━━━━━━━━━━━━━━━━━\u001b[0m\u001b[37m\u001b[0m \u001b[1m4s\u001b[0m 5ms/step - accuracy: 0.8328 - loss: 0.4502 - val_accuracy: 0.8366 - val_loss: 0.4424\n",
      "Epoch 15/50\n",
      "\u001b[1m840/840\u001b[0m \u001b[32m━━━━━━━━━━━━━━━━━━━━\u001b[0m\u001b[37m\u001b[0m \u001b[1m3s\u001b[0m 4ms/step - accuracy: 0.8291 - loss: 0.4548 - val_accuracy: 0.8366 - val_loss: 0.4428\n",
      "Epoch 16/50\n",
      "\u001b[1m840/840\u001b[0m \u001b[32m━━━━━━━━━━━━━━━━━━━━\u001b[0m\u001b[37m\u001b[0m \u001b[1m5s\u001b[0m 6ms/step - accuracy: 0.8331 - loss: 0.4486 - val_accuracy: 0.8366 - val_loss: 0.4430\n",
      "Epoch 17/50\n",
      "\u001b[1m840/840\u001b[0m \u001b[32m━━━━━━━━━━━━━━━━━━━━\u001b[0m\u001b[37m\u001b[0m \u001b[1m5s\u001b[0m 6ms/step - accuracy: 0.8288 - loss: 0.4556 - val_accuracy: 0.8366 - val_loss: 0.4430\n",
      "Epoch 18/50\n",
      "\u001b[1m840/840\u001b[0m \u001b[32m━━━━━━━━━━━━━━━━━━━━\u001b[0m\u001b[37m\u001b[0m \u001b[1m5s\u001b[0m 6ms/step - accuracy: 0.8301 - loss: 0.4526 - val_accuracy: 0.8366 - val_loss: 0.4429\n",
      "Epoch 19/50\n",
      "\u001b[1m840/840\u001b[0m \u001b[32m━━━━━━━━━━━━━━━━━━━━\u001b[0m\u001b[37m\u001b[0m \u001b[1m5s\u001b[0m 6ms/step - accuracy: 0.8299 - loss: 0.4531 - val_accuracy: 0.8366 - val_loss: 0.4427\n",
      "Epoch 20/50\n",
      "\u001b[1m840/840\u001b[0m \u001b[32m━━━━━━━━━━━━━━━━━━━━\u001b[0m\u001b[37m\u001b[0m \u001b[1m5s\u001b[0m 6ms/step - accuracy: 0.8303 - loss: 0.4514 - val_accuracy: 0.8366 - val_loss: 0.4424\n",
      "Epoch 21/50\n",
      "\u001b[1m840/840\u001b[0m \u001b[32m━━━━━━━━━━━━━━━━━━━━\u001b[0m\u001b[37m\u001b[0m \u001b[1m5s\u001b[0m 6ms/step - accuracy: 0.8280 - loss: 0.4546 - val_accuracy: 0.8366 - val_loss: 0.4424\n",
      "Epoch 22/50\n",
      "\u001b[1m840/840\u001b[0m \u001b[32m━━━━━━━━━━━━━━━━━━━━\u001b[0m\u001b[37m\u001b[0m \u001b[1m6s\u001b[0m 7ms/step - accuracy: 0.8319 - loss: 0.4494 - val_accuracy: 0.8366 - val_loss: 0.4424\n",
      "Epoch 23/50\n",
      "\u001b[1m840/840\u001b[0m \u001b[32m━━━━━━━━━━━━━━━━━━━━\u001b[0m\u001b[37m\u001b[0m \u001b[1m6s\u001b[0m 7ms/step - accuracy: 0.8307 - loss: 0.4512 - val_accuracy: 0.8366 - val_loss: 0.4430\n",
      "Epoch 24/50\n",
      "\u001b[1m840/840\u001b[0m \u001b[32m━━━━━━━━━━━━━━━━━━━━\u001b[0m\u001b[37m\u001b[0m \u001b[1m6s\u001b[0m 7ms/step - accuracy: 0.8341 - loss: 0.4450 - val_accuracy: 0.8366 - val_loss: 0.4428\n",
      "Epoch 25/50\n",
      "\u001b[1m840/840\u001b[0m \u001b[32m━━━━━━━━━━━━━━━━━━━━\u001b[0m\u001b[37m\u001b[0m \u001b[1m6s\u001b[0m 7ms/step - accuracy: 0.8313 - loss: 0.4499 - val_accuracy: 0.8366 - val_loss: 0.4427\n",
      "Epoch 26/50\n",
      "\u001b[1m840/840\u001b[0m \u001b[32m━━━━━━━━━━━━━━━━━━━━\u001b[0m\u001b[37m\u001b[0m \u001b[1m5s\u001b[0m 6ms/step - accuracy: 0.8313 - loss: 0.4515 - val_accuracy: 0.8366 - val_loss: 0.4428\n",
      "Epoch 27/50\n",
      "\u001b[1m840/840\u001b[0m \u001b[32m━━━━━━━━━━━━━━━━━━━━\u001b[0m\u001b[37m\u001b[0m \u001b[1m6s\u001b[0m 7ms/step - accuracy: 0.8328 - loss: 0.4464 - val_accuracy: 0.8366 - val_loss: 0.4431\n",
      "Epoch 28/50\n",
      "\u001b[1m840/840\u001b[0m \u001b[32m━━━━━━━━━━━━━━━━━━━━\u001b[0m\u001b[37m\u001b[0m \u001b[1m6s\u001b[0m 6ms/step - accuracy: 0.8307 - loss: 0.4514 - val_accuracy: 0.8366 - val_loss: 0.4431\n",
      "Epoch 29/50\n",
      "\u001b[1m840/840\u001b[0m \u001b[32m━━━━━━━━━━━━━━━━━━━━\u001b[0m\u001b[37m\u001b[0m \u001b[1m6s\u001b[0m 7ms/step - accuracy: 0.8308 - loss: 0.4500 - val_accuracy: 0.8366 - val_loss: 0.4430\n",
      "Epoch 30/50\n",
      "\u001b[1m840/840\u001b[0m \u001b[32m━━━━━━━━━━━━━━━━━━━━\u001b[0m\u001b[37m\u001b[0m \u001b[1m6s\u001b[0m 7ms/step - accuracy: 0.8304 - loss: 0.4519 - val_accuracy: 0.8366 - val_loss: 0.4425\n",
      "Epoch 31/50\n",
      "\u001b[1m840/840\u001b[0m \u001b[32m━━━━━━━━━━━━━━━━━━━━\u001b[0m\u001b[37m\u001b[0m \u001b[1m6s\u001b[0m 7ms/step - accuracy: 0.8319 - loss: 0.4481 - val_accuracy: 0.8366 - val_loss: 0.4433\n",
      "Epoch 32/50\n",
      "\u001b[1m840/840\u001b[0m \u001b[32m━━━━━━━━━━━━━━━━━━━━\u001b[0m\u001b[37m\u001b[0m \u001b[1m6s\u001b[0m 7ms/step - accuracy: 0.8322 - loss: 0.4485 - val_accuracy: 0.8366 - val_loss: 0.4430\n",
      "Epoch 33/50\n",
      "\u001b[1m840/840\u001b[0m \u001b[32m━━━━━━━━━━━━━━━━━━━━\u001b[0m\u001b[37m\u001b[0m \u001b[1m6s\u001b[0m 7ms/step - accuracy: 0.8297 - loss: 0.4511 - val_accuracy: 0.8366 - val_loss: 0.4427\n",
      "Epoch 34/50\n",
      "\u001b[1m840/840\u001b[0m \u001b[32m━━━━━━━━━━━━━━━━━━━━\u001b[0m\u001b[37m\u001b[0m \u001b[1m6s\u001b[0m 7ms/step - accuracy: 0.8342 - loss: 0.4444 - val_accuracy: 0.8366 - val_loss: 0.4432\n",
      "Epoch 35/50\n",
      "\u001b[1m840/840\u001b[0m \u001b[32m━━━━━━━━━━━━━━━━━━━━\u001b[0m\u001b[37m\u001b[0m \u001b[1m10s\u001b[0m 6ms/step - accuracy: 0.8344 - loss: 0.4442 - val_accuracy: 0.8366 - val_loss: 0.4434\n",
      "Epoch 36/50\n",
      "\u001b[1m840/840\u001b[0m \u001b[32m━━━━━━━━━━━━━━━━━━━━\u001b[0m\u001b[37m\u001b[0m \u001b[1m5s\u001b[0m 6ms/step - accuracy: 0.8323 - loss: 0.4475 - val_accuracy: 0.8366 - val_loss: 0.4436\n",
      "Epoch 37/50\n",
      "\u001b[1m840/840\u001b[0m \u001b[32m━━━━━━━━━━━━━━━━━━━━\u001b[0m\u001b[37m\u001b[0m \u001b[1m5s\u001b[0m 6ms/step - accuracy: 0.8314 - loss: 0.4496 - val_accuracy: 0.8366 - val_loss: 0.4434\n",
      "Epoch 38/50\n",
      "\u001b[1m840/840\u001b[0m \u001b[32m━━━━━━━━━━━━━━━━━━━━\u001b[0m\u001b[37m\u001b[0m \u001b[1m5s\u001b[0m 6ms/step - accuracy: 0.8271 - loss: 0.4565 - val_accuracy: 0.8366 - val_loss: 0.4436\n",
      "Epoch 39/50\n",
      "\u001b[1m840/840\u001b[0m \u001b[32m━━━━━━━━━━━━━━━━━━━━\u001b[0m\u001b[37m\u001b[0m \u001b[1m5s\u001b[0m 6ms/step - accuracy: 0.8310 - loss: 0.4509 - val_accuracy: 0.8366 - val_loss: 0.4432\n",
      "Epoch 40/50\n",
      "\u001b[1m840/840\u001b[0m \u001b[32m━━━━━━━━━━━━━━━━━━━━\u001b[0m\u001b[37m\u001b[0m \u001b[1m5s\u001b[0m 6ms/step - accuracy: 0.8294 - loss: 0.4519 - val_accuracy: 0.8366 - val_loss: 0.4433\n",
      "Epoch 41/50\n",
      "\u001b[1m840/840\u001b[0m \u001b[32m━━━━━━━━━━━━━━━━━━━━\u001b[0m\u001b[37m\u001b[0m \u001b[1m5s\u001b[0m 6ms/step - accuracy: 0.8353 - loss: 0.4433 - val_accuracy: 0.8366 - val_loss: 0.4434\n",
      "Epoch 42/50\n",
      "\u001b[1m840/840\u001b[0m \u001b[32m━━━━━━━━━━━━━━━━━━━━\u001b[0m\u001b[37m\u001b[0m \u001b[1m5s\u001b[0m 6ms/step - accuracy: 0.8316 - loss: 0.4497 - val_accuracy: 0.8366 - val_loss: 0.4436\n",
      "Epoch 43/50\n",
      "\u001b[1m840/840\u001b[0m \u001b[32m━━━━━━━━━━━━━━━━━━━━\u001b[0m\u001b[37m\u001b[0m \u001b[1m5s\u001b[0m 6ms/step - accuracy: 0.8311 - loss: 0.4479 - val_accuracy: 0.8366 - val_loss: 0.4434\n",
      "Epoch 44/50\n",
      "\u001b[1m840/840\u001b[0m \u001b[32m━━━━━━━━━━━━━━━━━━━━\u001b[0m\u001b[37m\u001b[0m \u001b[1m5s\u001b[0m 6ms/step - accuracy: 0.8316 - loss: 0.4495 - val_accuracy: 0.8366 - val_loss: 0.4434\n",
      "Epoch 45/50\n",
      "\u001b[1m840/840\u001b[0m \u001b[32m━━━━━━━━━━━━━━━━━━━━\u001b[0m\u001b[37m\u001b[0m \u001b[1m5s\u001b[0m 6ms/step - accuracy: 0.8306 - loss: 0.4495 - val_accuracy: 0.8366 - val_loss: 0.4435\n",
      "Epoch 46/50\n",
      "\u001b[1m840/840\u001b[0m \u001b[32m━━━━━━━━━━━━━━━━━━━━\u001b[0m\u001b[37m\u001b[0m \u001b[1m5s\u001b[0m 6ms/step - accuracy: 0.8343 - loss: 0.4427 - val_accuracy: 0.8366 - val_loss: 0.4439\n",
      "Epoch 47/50\n",
      "\u001b[1m840/840\u001b[0m \u001b[32m━━━━━━━━━━━━━━━━━━━━\u001b[0m\u001b[37m\u001b[0m \u001b[1m5s\u001b[0m 6ms/step - accuracy: 0.8317 - loss: 0.4483 - val_accuracy: 0.8366 - val_loss: 0.4437\n",
      "Epoch 48/50\n",
      "\u001b[1m840/840\u001b[0m \u001b[32m━━━━━━━━━━━━━━━━━━━━\u001b[0m\u001b[37m\u001b[0m \u001b[1m5s\u001b[0m 6ms/step - accuracy: 0.8325 - loss: 0.4459 - val_accuracy: 0.8366 - val_loss: 0.4440\n",
      "Epoch 49/50\n",
      "\u001b[1m840/840\u001b[0m \u001b[32m━━━━━━━━━━━━━━━━━━━━\u001b[0m\u001b[37m\u001b[0m \u001b[1m5s\u001b[0m 6ms/step - accuracy: 0.8313 - loss: 0.4473 - val_accuracy: 0.8366 - val_loss: 0.4438\n",
      "Epoch 50/50\n",
      "\u001b[1m840/840\u001b[0m \u001b[32m━━━━━━━━━━━━━━━━━━━━\u001b[0m\u001b[37m\u001b[0m \u001b[1m5s\u001b[0m 6ms/step - accuracy: 0.8333 - loss: 0.4450 - val_accuracy: 0.8366 - val_loss: 0.4439\n"
     ]
    }
   ],
   "source": [
    "history = model.fit(X_train_csp, y_train, epochs=50, batch_size=32, validation_data=(X_test_csp, y_test))"
   ]
  },
  {
   "cell_type": "code",
   "execution_count": 21,
   "id": "f3318607-63ad-4ff1-a25a-3ab23c74bb82",
   "metadata": {},
   "outputs": [
    {
     "name": "stdout",
     "output_type": "stream",
     "text": [
      "\u001b[1m840/840\u001b[0m \u001b[32m━━━━━━━━━━━━━━━━━━━━\u001b[0m\u001b[37m\u001b[0m \u001b[1m2s\u001b[0m 2ms/step\n",
      "\u001b[1m210/210\u001b[0m \u001b[32m━━━━━━━━━━━━━━━━━━━━\u001b[0m\u001b[37m\u001b[0m \u001b[1m1s\u001b[0m 2ms/step\n"
     ]
    }
   ],
   "source": [
    "y_pred_train_nn = (model.predict(X_train_csp) > 0.5).astype(\"int32\")\n",
    "y_pred_test_nn = (model.predict(X_test_csp) > 0.5).astype(\"int32\")"
   ]
  },
  {
   "cell_type": "code",
   "execution_count": 22,
   "id": "a6aabf9b-bf2d-4621-95c4-41eba158b4be",
   "metadata": {},
   "outputs": [
    {
     "name": "stdout",
     "output_type": "stream",
     "text": [
      "🔹 FCN Train 정확도: 0.8325\n",
      "🔹 FCN Test 정확도: 0.8366\n"
     ]
    }
   ],
   "source": [
    "train_accuracy = accuracy_score(y_train, y_pred_train_nn)\n",
    "test_accuracy = accuracy_score(y_test, y_pred_test_nn)\n",
    "\n",
    "# 출력\n",
    "print(f\"🔹 FCN Train 정확도: {train_accuracy:.4f}\")\n",
    "print(f\"🔹 FCN Test 정확도: {test_accuracy:.4f}\")\n"
   ]
  },
  {
   "cell_type": "code",
   "execution_count": null,
   "id": "07fb4015-f562-443d-bdda-41f6f138bc88",
   "metadata": {},
   "outputs": [],
   "source": []
  }
 ],
 "metadata": {
  "kernelspec": {
   "display_name": "Python [conda env:base] *",
   "language": "python",
   "name": "conda-base-py"
  },
  "language_info": {
   "codemirror_mode": {
    "name": "ipython",
    "version": 3
   },
   "file_extension": ".py",
   "mimetype": "text/x-python",
   "name": "python",
   "nbconvert_exporter": "python",
   "pygments_lexer": "ipython3",
   "version": "3.12.7"
  }
 },
 "nbformat": 4,
 "nbformat_minor": 5
}
