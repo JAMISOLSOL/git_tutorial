{
 "cells": [
  {
   "cell_type": "markdown",
   "id": "e2b452fd-cd75-49c9-9e93-e2260770aac8",
   "metadata": {},
   "source": [
    "1. CSP로 이진분류\n",
    "2. 머신러닝 기법 이용(로지스틱) 데이터 분류\n",
    "3. 전처리된 데이터를 전결합층 fully connected 엡실러 층3개로 해서 해보기 "
   ]
  },
  {
   "cell_type": "code",
   "execution_count": 4,
   "id": "af8f2c32-a1ea-4bbd-93a5-2aeaaa5d9905",
   "metadata": {},
   "outputs": [
    {
     "name": "stdout",
     "output_type": "stream",
     "text": [
      "Requirement already satisfied: numpy in c:\\users\\kimso\\anaconda3\\lib\\site-packages (1.26.4)\n",
      "Requirement already satisfied: moabb in c:\\users\\kimso\\anaconda3\\lib\\site-packages (1.1.1)\n",
      "Requirement already satisfied: PyYAML<7.0,>=6.0 in c:\\users\\kimso\\anaconda3\\lib\\site-packages (from moabb) (6.0.1)\n",
      "Requirement already satisfied: coverage<8.0.0,>=7.0.1 in c:\\users\\kimso\\anaconda3\\lib\\site-packages (from moabb) (7.6.12)\n",
      "Requirement already satisfied: edfio<0.5.0,>=0.4.2 in c:\\users\\kimso\\anaconda3\\lib\\site-packages (from moabb) (0.4.5)\n",
      "Requirement already satisfied: edflib-python<2.0.0,>=1.0.6 in c:\\users\\kimso\\anaconda3\\lib\\site-packages (from moabb) (1.0.8)\n",
      "Requirement already satisfied: h5py<4.0.0,>=3.10.0 in c:\\users\\kimso\\anaconda3\\lib\\site-packages (from moabb) (3.11.0)\n",
      "Requirement already satisfied: matplotlib<4.0.0,>=3.6.2 in c:\\users\\kimso\\anaconda3\\lib\\site-packages (from moabb) (3.9.2)\n",
      "Requirement already satisfied: memory-profiler<0.62.0,>=0.61.0 in c:\\users\\kimso\\anaconda3\\lib\\site-packages (from moabb) (0.61.0)\n",
      "Requirement already satisfied: mne<2.0.0,>=1.7.0 in c:\\users\\kimso\\anaconda3\\lib\\site-packages (from moabb) (1.9.0)\n",
      "Requirement already satisfied: mne-bids<0.15,>=0.14 in c:\\users\\kimso\\anaconda3\\lib\\site-packages (from moabb) (0.14)\n",
      "Requirement already satisfied: pandas<2.0.0,>=1.5.2 in c:\\users\\kimso\\anaconda3\\lib\\site-packages (from moabb) (1.5.3)\n",
      "Requirement already satisfied: pooch<2.0.0,>=1.6.0 in c:\\users\\kimso\\anaconda3\\lib\\site-packages (from moabb) (1.8.2)\n",
      "Requirement already satisfied: pyriemann<0.7,>=0.6 in c:\\users\\kimso\\anaconda3\\lib\\site-packages (from moabb) (0.6)\n",
      "Requirement already satisfied: pytest<8.0.0,>=7.4.0 in c:\\users\\kimso\\anaconda3\\lib\\site-packages (from moabb) (7.4.4)\n",
      "Requirement already satisfied: requests<3.0.0,>=2.28.1 in c:\\users\\kimso\\anaconda3\\lib\\site-packages (from moabb) (2.32.3)\n",
      "Requirement already satisfied: scikit-learn>=1.4.2 in c:\\users\\kimso\\anaconda3\\lib\\site-packages (from moabb) (1.5.1)\n",
      "Requirement already satisfied: scipy<2.0.0,>=1.9.3 in c:\\users\\kimso\\anaconda3\\lib\\site-packages (from moabb) (1.13.1)\n",
      "Requirement already satisfied: seaborn<0.13.0,>=0.12.1 in c:\\users\\kimso\\anaconda3\\lib\\site-packages (from moabb) (0.12.2)\n",
      "Requirement already satisfied: tqdm<5.0.0,>=4.64.1 in c:\\users\\kimso\\anaconda3\\lib\\site-packages (from moabb) (4.66.5)\n",
      "Requirement already satisfied: urllib3<2.0.0,>=1.26.15 in c:\\users\\kimso\\anaconda3\\lib\\site-packages (from moabb) (1.26.20)\n",
      "Requirement already satisfied: contourpy>=1.0.1 in c:\\users\\kimso\\anaconda3\\lib\\site-packages (from matplotlib<4.0.0,>=3.6.2->moabb) (1.2.0)\n",
      "Requirement already satisfied: cycler>=0.10 in c:\\users\\kimso\\anaconda3\\lib\\site-packages (from matplotlib<4.0.0,>=3.6.2->moabb) (0.11.0)\n",
      "Requirement already satisfied: fonttools>=4.22.0 in c:\\users\\kimso\\anaconda3\\lib\\site-packages (from matplotlib<4.0.0,>=3.6.2->moabb) (4.51.0)\n",
      "Requirement already satisfied: kiwisolver>=1.3.1 in c:\\users\\kimso\\anaconda3\\lib\\site-packages (from matplotlib<4.0.0,>=3.6.2->moabb) (1.4.4)\n",
      "Requirement already satisfied: packaging>=20.0 in c:\\users\\kimso\\anaconda3\\lib\\site-packages (from matplotlib<4.0.0,>=3.6.2->moabb) (24.1)\n",
      "Requirement already satisfied: pillow>=8 in c:\\users\\kimso\\anaconda3\\lib\\site-packages (from matplotlib<4.0.0,>=3.6.2->moabb) (10.4.0)\n",
      "Requirement already satisfied: pyparsing>=2.3.1 in c:\\users\\kimso\\anaconda3\\lib\\site-packages (from matplotlib<4.0.0,>=3.6.2->moabb) (3.1.2)\n",
      "Requirement already satisfied: python-dateutil>=2.7 in c:\\users\\kimso\\anaconda3\\lib\\site-packages (from matplotlib<4.0.0,>=3.6.2->moabb) (2.9.0.post0)\n",
      "Requirement already satisfied: psutil in c:\\users\\kimso\\anaconda3\\lib\\site-packages (from memory-profiler<0.62.0,>=0.61.0->moabb) (5.9.0)\n",
      "Requirement already satisfied: decorator in c:\\users\\kimso\\anaconda3\\lib\\site-packages (from mne<2.0.0,>=1.7.0->moabb) (5.1.1)\n",
      "Requirement already satisfied: jinja2 in c:\\users\\kimso\\anaconda3\\lib\\site-packages (from mne<2.0.0,>=1.7.0->moabb) (3.1.4)\n",
      "Requirement already satisfied: lazy-loader>=0.3 in c:\\users\\kimso\\anaconda3\\lib\\site-packages (from mne<2.0.0,>=1.7.0->moabb) (0.4)\n",
      "Requirement already satisfied: pytz>=2020.1 in c:\\users\\kimso\\anaconda3\\lib\\site-packages (from pandas<2.0.0,>=1.5.2->moabb) (2024.1)\n",
      "Requirement already satisfied: platformdirs>=2.5.0 in c:\\users\\kimso\\anaconda3\\lib\\site-packages (from pooch<2.0.0,>=1.6.0->moabb) (3.10.0)\n",
      "Requirement already satisfied: joblib in c:\\users\\kimso\\anaconda3\\lib\\site-packages (from pyriemann<0.7,>=0.6->moabb) (1.4.2)\n",
      "Requirement already satisfied: iniconfig in c:\\users\\kimso\\anaconda3\\lib\\site-packages (from pytest<8.0.0,>=7.4.0->moabb) (1.1.1)\n",
      "Requirement already satisfied: pluggy<2.0,>=0.12 in c:\\users\\kimso\\anaconda3\\lib\\site-packages (from pytest<8.0.0,>=7.4.0->moabb) (1.0.0)\n",
      "Requirement already satisfied: colorama in c:\\users\\kimso\\anaconda3\\lib\\site-packages (from pytest<8.0.0,>=7.4.0->moabb) (0.4.6)\n",
      "Requirement already satisfied: charset-normalizer<4,>=2 in c:\\users\\kimso\\anaconda3\\lib\\site-packages (from requests<3.0.0,>=2.28.1->moabb) (3.3.2)\n",
      "Requirement already satisfied: idna<4,>=2.5 in c:\\users\\kimso\\anaconda3\\lib\\site-packages (from requests<3.0.0,>=2.28.1->moabb) (3.7)\n",
      "Requirement already satisfied: certifi>=2017.4.17 in c:\\users\\kimso\\anaconda3\\lib\\site-packages (from requests<3.0.0,>=2.28.1->moabb) (2025.1.31)\n",
      "Requirement already satisfied: threadpoolctl>=3.1.0 in c:\\users\\kimso\\anaconda3\\lib\\site-packages (from scikit-learn>=1.4.2->moabb) (3.5.0)\n",
      "Requirement already satisfied: six>=1.5 in c:\\users\\kimso\\anaconda3\\lib\\site-packages (from python-dateutil>=2.7->matplotlib<4.0.0,>=3.6.2->moabb) (1.16.0)\n",
      "Requirement already satisfied: MarkupSafe>=2.0 in c:\\users\\kimso\\anaconda3\\lib\\site-packages (from jinja2->mne<2.0.0,>=1.7.0->moabb) (2.1.3)\n"
     ]
    }
   ],
   "source": [
    "!pip install numpy moabb"
   ]
  },
  {
   "cell_type": "code",
   "execution_count": 5,
   "id": "c5216d56-6416-4239-b0a4-369adab75d37",
   "metadata": {},
   "outputs": [],
   "source": [
    "from moabb.datasets import BNCI2014_008\n",
    "from moabb.paradigms import P300\n",
    "import pandas as pd"
   ]
  },
  {
   "cell_type": "code",
   "execution_count": 6,
   "id": "9b323fa2-c657-49fa-8465-24220419ff72",
   "metadata": {},
   "outputs": [],
   "source": [
    "# 필수 라이브러리 불러오기\n",
    "import numpy as np\n",
    "import pandas as pd\n",
    "from sklearn.model_selection import train_test_split\n",
    "from sklearn.preprocessing import StandardScaler\n",
    "from sklearn.discriminant_analysis import LinearDiscriminantAnalysis as LDA\n",
    "from sklearn.metrics import accuracy_score, classification_report, confusion_matrix\n",
    "from mne.decoding import CSP\n",
    "from moabb.datasets import BNCI2014_008\n",
    "from moabb.paradigms import P300\n",
    "from sklearn.linear_model import LogisticRegression"
   ]
  },
  {
   "cell_type": "code",
   "execution_count": 7,
   "id": "05795af7-565a-4c42-b4d5-54e84569b28f",
   "metadata": {},
   "outputs": [],
   "source": [
    "dataset = BNCI2014_008()"
   ]
  },
  {
   "cell_type": "code",
   "execution_count": 8,
   "id": "7369417c-6c85-4e1b-a26d-f9c85aac26a3",
   "metadata": {},
   "outputs": [],
   "source": [
    "paradigm = P300()"
   ]
  },
  {
   "cell_type": "code",
   "execution_count": 9,
   "id": "b925f237-286c-4dd2-be3e-e10a426b2419",
   "metadata": {},
   "outputs": [
    {
     "name": "stderr",
     "output_type": "stream",
     "text": [
      "C:\\Users\\kimso\\anaconda3\\envs\\sol3\\lib\\site-packages\\moabb\\datasets\\preprocessing.py:279: UserWarning: warnEpochs <Epochs | 4200 events (all good), 0 – 1 s (baseline off), ~65.9 MiB, data loaded,\n",
      " 'Target': 700\n",
      " 'NonTarget': 3500>\n",
      "  warn(f\"warnEpochs {epochs}\")\n",
      "C:\\Users\\kimso\\anaconda3\\envs\\sol3\\lib\\site-packages\\sklearn\\pipeline.py:62: FutureWarning: This Pipeline instance is not fitted yet. Call 'fit' with appropriate arguments before using other methods such as transform, predict, etc. This will raise an error in 1.8 instead of the current warning.\n",
      "  warnings.warn(\n",
      "C:\\Users\\kimso\\anaconda3\\envs\\sol3\\lib\\site-packages\\moabb\\datasets\\preprocessing.py:279: UserWarning: warnEpochs <Epochs | 4200 events (all good), 0 – 1 s (baseline off), ~65.9 MiB, data loaded,\n",
      " 'Target': 700\n",
      " 'NonTarget': 3500>\n",
      "  warn(f\"warnEpochs {epochs}\")\n",
      "C:\\Users\\kimso\\anaconda3\\envs\\sol3\\lib\\site-packages\\sklearn\\pipeline.py:62: FutureWarning: This Pipeline instance is not fitted yet. Call 'fit' with appropriate arguments before using other methods such as transform, predict, etc. This will raise an error in 1.8 instead of the current warning.\n",
      "  warnings.warn(\n",
      "C:\\Users\\kimso\\anaconda3\\envs\\sol3\\lib\\site-packages\\moabb\\datasets\\preprocessing.py:279: UserWarning: warnEpochs <Epochs | 4200 events (all good), 0 – 1 s (baseline off), ~65.9 MiB, data loaded,\n",
      " 'Target': 700\n",
      " 'NonTarget': 3500>\n",
      "  warn(f\"warnEpochs {epochs}\")\n",
      "C:\\Users\\kimso\\anaconda3\\envs\\sol3\\lib\\site-packages\\sklearn\\pipeline.py:62: FutureWarning: This Pipeline instance is not fitted yet. Call 'fit' with appropriate arguments before using other methods such as transform, predict, etc. This will raise an error in 1.8 instead of the current warning.\n",
      "  warnings.warn(\n",
      "C:\\Users\\kimso\\anaconda3\\envs\\sol3\\lib\\site-packages\\moabb\\datasets\\preprocessing.py:279: UserWarning: warnEpochs <Epochs | 4200 events (all good), 0 – 1 s (baseline off), ~65.9 MiB, data loaded,\n",
      " 'Target': 700\n",
      " 'NonTarget': 3500>\n",
      "  warn(f\"warnEpochs {epochs}\")\n",
      "C:\\Users\\kimso\\anaconda3\\envs\\sol3\\lib\\site-packages\\sklearn\\pipeline.py:62: FutureWarning: This Pipeline instance is not fitted yet. Call 'fit' with appropriate arguments before using other methods such as transform, predict, etc. This will raise an error in 1.8 instead of the current warning.\n",
      "  warnings.warn(\n",
      "C:\\Users\\kimso\\anaconda3\\envs\\sol3\\lib\\site-packages\\moabb\\datasets\\preprocessing.py:279: UserWarning: warnEpochs <Epochs | 4200 events (all good), 0 – 1 s (baseline off), ~65.9 MiB, data loaded,\n",
      " 'Target': 700\n",
      " 'NonTarget': 3500>\n",
      "  warn(f\"warnEpochs {epochs}\")\n",
      "C:\\Users\\kimso\\anaconda3\\envs\\sol3\\lib\\site-packages\\sklearn\\pipeline.py:62: FutureWarning: This Pipeline instance is not fitted yet. Call 'fit' with appropriate arguments before using other methods such as transform, predict, etc. This will raise an error in 1.8 instead of the current warning.\n",
      "  warnings.warn(\n",
      "C:\\Users\\kimso\\anaconda3\\envs\\sol3\\lib\\site-packages\\moabb\\datasets\\preprocessing.py:279: UserWarning: warnEpochs <Epochs | 4200 events (all good), 0 – 1 s (baseline off), ~65.9 MiB, data loaded,\n",
      " 'Target': 700\n",
      " 'NonTarget': 3500>\n",
      "  warn(f\"warnEpochs {epochs}\")\n",
      "C:\\Users\\kimso\\anaconda3\\envs\\sol3\\lib\\site-packages\\sklearn\\pipeline.py:62: FutureWarning: This Pipeline instance is not fitted yet. Call 'fit' with appropriate arguments before using other methods such as transform, predict, etc. This will raise an error in 1.8 instead of the current warning.\n",
      "  warnings.warn(\n",
      "C:\\Users\\kimso\\anaconda3\\envs\\sol3\\lib\\site-packages\\moabb\\datasets\\preprocessing.py:279: UserWarning: warnEpochs <Epochs | 4200 events (all good), 0 – 1 s (baseline off), ~65.9 MiB, data loaded,\n",
      " 'Target': 700\n",
      " 'NonTarget': 3500>\n",
      "  warn(f\"warnEpochs {epochs}\")\n",
      "C:\\Users\\kimso\\anaconda3\\envs\\sol3\\lib\\site-packages\\sklearn\\pipeline.py:62: FutureWarning: This Pipeline instance is not fitted yet. Call 'fit' with appropriate arguments before using other methods such as transform, predict, etc. This will raise an error in 1.8 instead of the current warning.\n",
      "  warnings.warn(\n",
      "C:\\Users\\kimso\\anaconda3\\envs\\sol3\\lib\\site-packages\\moabb\\datasets\\preprocessing.py:279: UserWarning: warnEpochs <Epochs | 4200 events (all good), 0 – 1 s (baseline off), ~65.9 MiB, data loaded,\n",
      " 'Target': 700\n",
      " 'NonTarget': 3500>\n",
      "  warn(f\"warnEpochs {epochs}\")\n",
      "C:\\Users\\kimso\\anaconda3\\envs\\sol3\\lib\\site-packages\\sklearn\\pipeline.py:62: FutureWarning: This Pipeline instance is not fitted yet. Call 'fit' with appropriate arguments before using other methods such as transform, predict, etc. This will raise an error in 1.8 instead of the current warning.\n",
      "  warnings.warn(\n"
     ]
    }
   ],
   "source": [
    "X, labels, meta = paradigm.get_data(dataset=dataset)"
   ]
  },
  {
   "cell_type": "code",
   "execution_count": 10,
   "id": "b66c7350-74bb-4c5c-9362-b3564727053b",
   "metadata": {},
   "outputs": [
    {
     "name": "stdout",
     "output_type": "stream",
     "text": [
      "X shape: (33600, 8, 257)\n",
      "Labels shape: (33600,)\n"
     ]
    }
   ],
   "source": [
    "print(\"X shape:\", X.shape)  # (33600, 8, 257) -> (샘플 수, 채널 수, 시간 축)\n",
    "print(\"Labels shape:\", labels.shape)  # (33600,)"
   ]
  },
  {
   "cell_type": "code",
   "execution_count": 11,
   "id": "b1a884ea-d362-4f80-bfa8-66f04d403ab6",
   "metadata": {},
   "outputs": [],
   "source": [
    "X_train, X_test, y_train, y_test = train_test_split(X, labels, test_size=0.2, random_state=42)"
   ]
  },
  {
   "cell_type": "code",
   "execution_count": 12,
   "id": "5561eb13-c5cd-4216-810e-620dd171c6d4",
   "metadata": {},
   "outputs": [
    {
     "name": "stdout",
     "output_type": "stream",
     "text": [
      "X shape: (26880, 8, 257)\n",
      "Labels shape: (26880,)\n"
     ]
    }
   ],
   "source": [
    "print(\"X shape:\", X_train.shape)  # (33600, 8, 257) -> (샘플 수, 채널 수, 시간 축)\n",
    "print(\"Labels shape:\", y_train.shape)  # (33600,)"
   ]
  },
  {
   "cell_type": "code",
   "execution_count": 13,
   "id": "1590e6b9-2c74-4352-8f38-7c6aa9d031ef",
   "metadata": {},
   "outputs": [
    {
     "name": "stdout",
     "output_type": "stream",
     "text": [
      "Computing rank from data with rank=None\n",
      "    Using tolerance 1e+02 (2.2e-16 eps * 8 dim * 5.7e+16  max singular value)\n",
      "    Estimated rank (data): 8\n",
      "    data: rank 8 computed from 8 data channels with 0 projectors\n",
      "Reducing data rank from 8 -> 8\n",
      "Estimating class=NonTarget covariance using EMPIRICAL\n",
      "Done.\n",
      "Estimating class=Target covariance using EMPIRICAL\n",
      "Done.\n"
     ]
    }
   ],
   "source": [
    "csp = CSP(n_components=4, reg=None, log=True, norm_trace=False)\n",
    "\n",
    "# CSP 변환 수행 (3D 형태 유지)\n",
    "X_train_csp = csp.fit_transform(X_train, y_train)\n",
    "X_test_csp = csp.transform(X_test)"
   ]
  },
  {
   "cell_type": "code",
   "execution_count": 14,
   "id": "c029475f-ad97-4ce9-beb1-b32616556012",
   "metadata": {},
   "outputs": [
    {
     "data": {
      "text/plain": [
       "(26880, 4)"
      ]
     },
     "execution_count": 14,
     "metadata": {},
     "output_type": "execute_result"
    }
   ],
   "source": [
    "X_train_csp.shape"
   ]
  },
  {
   "cell_type": "code",
   "execution_count": 15,
   "id": "50206e6e-625b-4374-b9a1-e2ce21dcd2aa",
   "metadata": {},
   "outputs": [],
   "source": [
    "log_reg = LogisticRegression(max_iter=1000)\n",
    "\n",
    "# 모델 학습\n",
    "log_reg.fit(X_train_csp, y_train)\n",
    "\n",
    "# 예측 수행\n",
    "y_pred_train_log = log_reg.predict(X_train_csp)\n",
    "y_pred_test_log = log_reg.predict(X_test_csp)"
   ]
  },
  {
   "cell_type": "code",
   "execution_count": 17,
   "id": "dbca8cc1-8b2b-4e54-bdf6-a376a4ec96fc",
   "metadata": {},
   "outputs": [
    {
     "name": "stdout",
     "output_type": "stream",
     "text": [
      "🔹 로지스틱 회귀 Train 정확도: 0.8325\n",
      "🔹 로지스틱 회귀 Test 정확도: 0.8366\n"
     ]
    }
   ],
   "source": [
    "# 정확도 출력\n",
    "train_accuracy = accuracy_score(y_train, y_pred_train_log)\n",
    "test_accuracy = accuracy_score(y_test, y_pred_test_log)\n",
    "print(f\"🔹 로지스틱 회귀 Train 정확도: {train_accuracy:.4f}\")\n",
    "print(f\"🔹 로지스틱 회귀 Test 정확도: {test_accuracy:.4f}\")"
   ]
  },
  {
   "cell_type": "code",
   "execution_count": null,
   "id": "03f58273-2289-4ad8-837f-814d79b67b41",
   "metadata": {},
   "outputs": [],
   "source": []
  }
 ],
 "metadata": {
  "kernelspec": {
   "display_name": "sol3",
   "language": "python",
   "name": "sol3"
  },
  "language_info": {
   "codemirror_mode": {
    "name": "ipython",
    "version": 3
   },
   "file_extension": ".py",
   "mimetype": "text/x-python",
   "name": "python",
   "nbconvert_exporter": "python",
   "pygments_lexer": "ipython3",
   "version": "3.10.16"
  }
 },
 "nbformat": 4,
 "nbformat_minor": 5
}
